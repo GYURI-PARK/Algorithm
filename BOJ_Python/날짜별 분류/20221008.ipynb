{
 "cells": [
  {
   "cell_type": "code",
   "execution_count": 30,
   "id": "89e748e5",
   "metadata": {},
   "outputs": [
    {
     "name": "stdout",
     "output_type": "stream",
     "text": [
      "4 2\n",
      "3 4 2 1\n",
      "10\n"
     ]
    }
   ],
   "source": [
    "# 15903번 : 카드 합체 놀이\n",
    "\n",
    "from heapq import heappop, heappush, heapify\n",
    "n, m = map(int, input().split())\n",
    "\n",
    "cards = [int(i) for i in input().split()]\n",
    "\n",
    "# cards 리스트를 heap으로 변환\n",
    "heapify(cards)\n",
    "\n",
    "\n",
    "for i in range(m):\n",
    "    card1 = heappop(cards)\n",
    "    card2 = heappop(cards)\n",
    "    \n",
    "    heappush(cards, card1)\n",
    "    heappush(cards, card2)\n",
    "    \n",
    "print(sum(cards))"
   ]
  },
  {
   "cell_type": "code",
   "execution_count": 31,
   "id": "2fe8d205",
   "metadata": {},
   "outputs": [
    {
     "data": {
      "text/plain": [
       "[1, 2, 3, 4]"
      ]
     },
     "execution_count": 31,
     "metadata": {},
     "output_type": "execute_result"
    }
   ],
   "source": [
    "cards"
   ]
  },
  {
   "cell_type": "code",
   "execution_count": 26,
   "id": "3d69c4f7",
   "metadata": {},
   "outputs": [
    {
     "data": {
      "text/plain": [
       "24"
      ]
     },
     "execution_count": 26,
     "metadata": {},
     "output_type": "execute_result"
    }
   ],
   "source": [
    "res"
   ]
  },
  {
   "cell_type": "code",
   "execution_count": 7,
   "id": "1a97d6b1",
   "metadata": {},
   "outputs": [
    {
     "data": {
      "text/plain": [
       "3"
      ]
     },
     "execution_count": 7,
     "metadata": {},
     "output_type": "execute_result"
    }
   ],
   "source": [
    "add = 0\n",
    "add += heappop(cards)\n",
    "add"
   ]
  },
  {
   "cell_type": "code",
   "execution_count": 8,
   "id": "456c8acc",
   "metadata": {},
   "outputs": [
    {
     "data": {
      "text/plain": [
       "[4]"
      ]
     },
     "execution_count": 8,
     "metadata": {},
     "output_type": "execute_result"
    }
   ],
   "source": [
    "cards"
   ]
  },
  {
   "cell_type": "code",
   "execution_count": null,
   "id": "fe1daaef",
   "metadata": {},
   "outputs": [],
   "source": []
  }
 ],
 "metadata": {
  "kernelspec": {
   "display_name": "Python 3 (ipykernel)",
   "language": "python",
   "name": "python3"
  },
  "language_info": {
   "codemirror_mode": {
    "name": "ipython",
    "version": 3
   },
   "file_extension": ".py",
   "mimetype": "text/x-python",
   "name": "python",
   "nbconvert_exporter": "python",
   "pygments_lexer": "ipython3",
   "version": "3.9.12"
  }
 },
 "nbformat": 4,
 "nbformat_minor": 5
}
