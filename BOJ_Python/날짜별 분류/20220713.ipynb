{
  "nbformat": 4,
  "nbformat_minor": 0,
  "metadata": {
    "colab": {
      "name": "20220713.ipynb",
      "provenance": [],
      "authorship_tag": "ABX9TyO7T/ZzfLWjgVyeWuIzRafz",
      "include_colab_link": true
    },
    "kernelspec": {
      "name": "python3",
      "display_name": "Python 3"
    },
    "language_info": {
      "name": "python"
    }
  },
  "cells": [
    {
      "cell_type": "markdown",
      "metadata": {
        "id": "view-in-github",
        "colab_type": "text"
      },
      "source": [
        "<a href=\"https://colab.research.google.com/github/GYURI-PARK/baekjoon/blob/main/20220713.ipynb\" target=\"_parent\"><img src=\"https://colab.research.google.com/assets/colab-badge.svg\" alt=\"Open In Colab\"/></a>"
      ]
    },
    {
      "cell_type": "code",
      "execution_count": null,
      "metadata": {
        "id": "gKIBAJQAibK_"
      },
      "outputs": [],
      "source": [
        "# 2941번 : 크로아티아 알파벳\n",
        "  \n",
        "croatia = ['c=','c-','dz=','d-','lj','nj','s=','z=']\n",
        "s = input()\n",
        "count = 0\n",
        "if(s in croatia):\n",
        "  count += 1\n",
        "else:\n",
        "  count += len(s)"
      ]
    },
    {
      "cell_type": "code",
      "source": [
        "s = input()\n",
        "croatia = ['c=','c-','dz=','d-','lj','nj','s=','z=']\n",
        "count3 = 0\n",
        "count2 = 0\n",
        "tot = len(s) \n",
        "for i in range(len(croatia)):\n",
        "  if croatia[i] in s:\n",
        "    if i == 2:\n",
        "      count3 += 1\n",
        "      s = s.replace(croatia[i],\"\")\n",
        "    else:\n",
        "      count2 += 1\n",
        "      s = s.replace(croatia[i],\"\")\n",
        "\n",
        "res = count3 + count2 + tot - (count3 * 3) - (count2 * 2)\n",
        "print(res)"
      ],
      "metadata": {
        "id": "y_fmEDYwj3kk",
        "colab": {
          "base_uri": "https://localhost:8080/"
        },
        "outputId": "80f63888-ebca-4493-c4b0-049d99fe6ad5"
      },
      "execution_count": 66,
      "outputs": [
        {
          "output_type": "stream",
          "name": "stdout",
          "text": [
            "c-c-\n",
            "3\n"
          ]
        }
      ]
    },
    {
      "cell_type": "code",
      "source": [
        "s = input()\n",
        "croatia = ['c=','c-','dz=','d-','lj','nj','s=','z=']\n",
        "count3 = 0\n",
        "count2 = 0\n",
        "tot = len(s) \n",
        "for i in range(len(croatia)):\n",
        "  while(True):\n",
        "    if croatia[2] in s:\n",
        "      count3 += 1\n",
        "      s = s.replace(croatia[i],\"\")\n",
        "    else:\n",
        "      count2 += 1\n",
        "      s = s.replace(croatia[i],\"\")\n",
        "\n",
        "res = count3 + count2 + tot - (count3 * 3) - (count2 * 2)\n",
        "print(res)"
      ],
      "metadata": {
        "colab": {
          "base_uri": "https://localhost:8080/",
          "height": 253
        },
        "id": "ymcyRgcJzP7K",
        "outputId": "de5f19ef-1366-4c05-8633-acaa50f01069"
      },
      "execution_count": 67,
      "outputs": [
        {
          "name": "stdout",
          "output_type": "stream",
          "text": [
            "c-c-\n"
          ]
        },
        {
          "output_type": "error",
          "ename": "KeyboardInterrupt",
          "evalue": "ignored",
          "traceback": [
            "\u001b[0;31m---------------------------------------------------------------------------\u001b[0m",
            "\u001b[0;31mKeyboardInterrupt\u001b[0m                         Traceback (most recent call last)",
            "\u001b[0;32m<ipython-input-67-f86e45ceb176>\u001b[0m in \u001b[0;36m<module>\u001b[0;34m()\u001b[0m\n\u001b[1;32m     10\u001b[0m       \u001b[0ms\u001b[0m \u001b[0;34m=\u001b[0m \u001b[0ms\u001b[0m\u001b[0;34m.\u001b[0m\u001b[0mreplace\u001b[0m\u001b[0;34m(\u001b[0m\u001b[0mcroatia\u001b[0m\u001b[0;34m[\u001b[0m\u001b[0mi\u001b[0m\u001b[0;34m]\u001b[0m\u001b[0;34m,\u001b[0m\u001b[0;34m\"\"\u001b[0m\u001b[0;34m)\u001b[0m\u001b[0;34m\u001b[0m\u001b[0;34m\u001b[0m\u001b[0m\n\u001b[1;32m     11\u001b[0m     \u001b[0;32melse\u001b[0m\u001b[0;34m:\u001b[0m\u001b[0;34m\u001b[0m\u001b[0;34m\u001b[0m\u001b[0m\n\u001b[0;32m---> 12\u001b[0;31m       \u001b[0mcount2\u001b[0m \u001b[0;34m+=\u001b[0m \u001b[0;36m1\u001b[0m\u001b[0;34m\u001b[0m\u001b[0;34m\u001b[0m\u001b[0m\n\u001b[0m\u001b[1;32m     13\u001b[0m       \u001b[0ms\u001b[0m \u001b[0;34m=\u001b[0m \u001b[0ms\u001b[0m\u001b[0;34m.\u001b[0m\u001b[0mreplace\u001b[0m\u001b[0;34m(\u001b[0m\u001b[0mcroatia\u001b[0m\u001b[0;34m[\u001b[0m\u001b[0mi\u001b[0m\u001b[0;34m]\u001b[0m\u001b[0;34m,\u001b[0m\u001b[0;34m\"\"\u001b[0m\u001b[0;34m)\u001b[0m\u001b[0;34m\u001b[0m\u001b[0;34m\u001b[0m\u001b[0m\n\u001b[1;32m     14\u001b[0m \u001b[0;34m\u001b[0m\u001b[0m\n",
            "\u001b[0;31mKeyboardInterrupt\u001b[0m: "
          ]
        }
      ]
    },
    {
      "cell_type": "code",
      "source": [
        "s = input()\n",
        "croatia = ['c=','c-','dz=','d-','lj','nj','s=','z=']\n",
        "count3 = 0\n",
        "count2 = 0\n",
        "tot = len(s)\n",
        "res = {} \n",
        "for i in range(len(croatia)):\n",
        "  res[i] = s.count(croatia[i])\n",
        "\n",
        "print(res)"
      ],
      "metadata": {
        "colab": {
          "base_uri": "https://localhost:8080/"
        },
        "id": "eaNS6KZnzQk9",
        "outputId": "4b977d14-c723-4b3d-c16c-42ef96465a6c"
      },
      "execution_count": 91,
      "outputs": [
        {
          "output_type": "stream",
          "name": "stdout",
          "text": [
            "c-c-\n",
            "{0: 0, 1: 2, 2: 0, 3: 0, 4: 0, 5: 0, 6: 0, 7: 0}\n"
          ]
        }
      ]
    },
    {
      "cell_type": "code",
      "source": [
        "res[1]"
      ],
      "metadata": {
        "colab": {
          "base_uri": "https://localhost:8080/"
        },
        "id": "ztkaEyjP0diT",
        "outputId": "73f30026-c96e-4b6b-848c-816597cde03b"
      },
      "execution_count": 94,
      "outputs": [
        {
          "output_type": "execute_result",
          "data": {
            "text/plain": [
              "2"
            ]
          },
          "metadata": {},
          "execution_count": 94
        }
      ]
    },
    {
      "cell_type": "code",
      "source": [
        "for i in range(len(croatia)):\n",
        "  res[i] = s.count(croatia[i])\n",
        "  if res[i] > 0:\n",
        "    if res[1] > 0:\n",
        "      count3 += 1\n",
        "      s = s.replace(croatia[i],\"\")\n",
        "    else:\n",
        "      count2 += 1\n",
        "      s = s.replace(croatia[i],\"\")\n",
        "#"
      ],
      "metadata": {
        "id": "XJt0d-3u9aBe"
      },
      "execution_count": 95,
      "outputs": []
    },
    {
      "cell_type": "code",
      "source": [
        "###### 이거이거이거\n",
        "\n",
        "s = input()\n",
        "croatia = ['c=','c-','dz=','d-','lj','nj','s=','z=']\n",
        "count3 = 0\n",
        "count2 = 0\n",
        "tot = len(s) \n",
        "res = {}\n",
        "for i in range(len(croatia)):\n",
        "  res[i] = s.count(croatia[i])\n",
        "  if res[i] > 0:\n",
        "    if res[2] > 0:\n",
        "      count3 += 1\n",
        "      s = s.replace(croatia[i],\"\")\n",
        "    else:\n",
        "      count2 += 1\n",
        "      s = s.replace(croatia[i],\"\")\n",
        "# print(count3 + count2 + tot - (count3 * 3) - (count2 * 2))\n",
        "print(-2*count3 - count2 +tot)"
      ],
      "metadata": {
        "colab": {
          "base_uri": "https://localhost:8080/",
          "height": 253
        },
        "id": "7DjIKoTp_vTG",
        "outputId": "008863e4-1166-4240-8585-a744a2ff911b"
      },
      "execution_count": 113,
      "outputs": [
        {
          "name": "stdout",
          "output_type": "stream",
          "text": [
            "c-c-\n"
          ]
        },
        {
          "output_type": "error",
          "ename": "KeyError",
          "evalue": "ignored",
          "traceback": [
            "\u001b[0;31m---------------------------------------------------------------------------\u001b[0m",
            "\u001b[0;31mKeyError\u001b[0m                                  Traceback (most recent call last)",
            "\u001b[0;32m<ipython-input-113-82092cf66960>\u001b[0m in \u001b[0;36m<module>\u001b[0;34m()\u001b[0m\n\u001b[1;32m      8\u001b[0m \u001b[0mres\u001b[0m \u001b[0;34m=\u001b[0m \u001b[0;34m{\u001b[0m\u001b[0;34m}\u001b[0m\u001b[0;34m\u001b[0m\u001b[0;34m\u001b[0m\u001b[0m\n\u001b[1;32m      9\u001b[0m \u001b[0;32mfor\u001b[0m \u001b[0mi\u001b[0m \u001b[0;32min\u001b[0m \u001b[0mrange\u001b[0m\u001b[0;34m(\u001b[0m\u001b[0mlen\u001b[0m\u001b[0;34m(\u001b[0m\u001b[0mcroatia\u001b[0m\u001b[0;34m)\u001b[0m\u001b[0;34m)\u001b[0m\u001b[0;34m:\u001b[0m\u001b[0;34m\u001b[0m\u001b[0;34m\u001b[0m\u001b[0m\n\u001b[0;32m---> 10\u001b[0;31m   \u001b[0mres\u001b[0m\u001b[0;34m[\u001b[0m\u001b[0mi\u001b[0m\u001b[0;34m]\u001b[0m \u001b[0;34m=\u001b[0m \u001b[0ms\u001b[0m\u001b[0;34m.\u001b[0m\u001b[0mcount\u001b[0m\u001b[0;34m(\u001b[0m\u001b[0mcroatia\u001b[0m\u001b[0;34m[\u001b[0m\u001b[0mi\u001b[0m\u001b[0;34m]\u001b[0m\u001b[0;34m)\u001b[0m\u001b[0;34m\u001b[0m\u001b[0;34m\u001b[0m\u001b[0m\n\u001b[0m\u001b[1;32m     11\u001b[0m   \u001b[0;32mif\u001b[0m \u001b[0mres\u001b[0m\u001b[0;34m[\u001b[0m\u001b[0mi\u001b[0m\u001b[0;34m]\u001b[0m \u001b[0;34m>\u001b[0m \u001b[0;36m0\u001b[0m\u001b[0;34m:\u001b[0m\u001b[0;34m\u001b[0m\u001b[0;34m\u001b[0m\u001b[0m\n\u001b[1;32m     12\u001b[0m     \u001b[0;32mif\u001b[0m \u001b[0mres\u001b[0m\u001b[0;34m[\u001b[0m\u001b[0;36m2\u001b[0m\u001b[0;34m]\u001b[0m \u001b[0;34m>\u001b[0m \u001b[0;36m0\u001b[0m\u001b[0;34m:\u001b[0m\u001b[0;34m\u001b[0m\u001b[0;34m\u001b[0m\u001b[0m\n",
            "\u001b[0;31mKeyError\u001b[0m: 0"
          ]
        }
      ]
    },
    {
      "cell_type": "code",
      "source": [
        "s = input()\n",
        "croatia = {'c=':0, 'c-':0, 'dz=':0, 'd-':0, 'lj':0 ,'nj':0 ,'s=':0 ,'z=':0}"
      ],
      "metadata": {
        "colab": {
          "base_uri": "https://localhost:8080/"
        },
        "id": "zYOLTcZMFIEm",
        "outputId": "50933c94-ae21-457a-aa91-18ab7871c91a"
      },
      "execution_count": 114,
      "outputs": [
        {
          "name": "stdout",
          "output_type": "stream",
          "text": [
            "sadsa\n"
          ]
        }
      ]
    },
    {
      "cell_type": "code",
      "source": [
        "croatia['c-']\n"
      ],
      "metadata": {
        "colab": {
          "base_uri": "https://localhost:8080/"
        },
        "id": "W3eFv9KRDTpV",
        "outputId": "dbbaeec4-d465-4223-9f7d-ad30c9e50b9c"
      },
      "execution_count": 117,
      "outputs": [
        {
          "output_type": "execute_result",
          "data": {
            "text/plain": [
              "0"
            ]
          },
          "metadata": {},
          "execution_count": 117
        }
      ]
    },
    {
      "cell_type": "code",
      "source": [
        "# 10989번 : 수 정렬하기 3\n",
        "\n",
        "n  = int(input())\n",
        "li = []\n",
        "for i in range(n):\n",
        "  li.append(int(input()))\n",
        "  li.sort()\n",
        "\n",
        "for i in range(len(li)):\n",
        "  print(li[i])"
      ],
      "metadata": {
        "colab": {
          "base_uri": "https://localhost:8080/"
        },
        "id": "OeRVMXuBAQAV",
        "outputId": "20dd87a4-cdf2-406e-cf7e-23d1b49e13ce"
      },
      "execution_count": 121,
      "outputs": [
        {
          "output_type": "stream",
          "name": "stdout",
          "text": [
            "10\n",
            "3\n",
            "7\n",
            "9\n",
            "3\n",
            "6\n",
            "5\n",
            "7\n",
            "2\n",
            "1\n",
            "2\n",
            "1\n",
            "2\n",
            "2\n",
            "3\n",
            "3\n",
            "5\n",
            "6\n",
            "7\n",
            "7\n",
            "9\n"
          ]
        }
      ]
    },
    {
      "cell_type": "code",
      "source": [
        "# 10989번 : 수 정렬하기 3\n",
        "# 시간 단축\n",
        "\n",
        "n  = int(input())\n",
        "li = [0] * 10001\n",
        "for _ in range(n):\n",
        "  li[int(input())] += 1\n",
        "\n",
        "for i in range(10001):\n",
        "  if li[i] != 0:\n",
        "    for j in range(li[i]):\n",
        "      print(i)"
      ],
      "metadata": {
        "colab": {
          "base_uri": "https://localhost:8080/"
        },
        "id": "jTpukECsAU41",
        "outputId": "6c748edf-7983-4e17-c6f8-7dd0005f3c2f"
      },
      "execution_count": 127,
      "outputs": [
        {
          "output_type": "stream",
          "name": "stdout",
          "text": [
            "5\n",
            "2\n",
            "8\n",
            "5\n",
            "3\n",
            "9\n",
            "2\n",
            "3\n",
            "5\n",
            "8\n",
            "9\n"
          ]
        }
      ]
    }
  ]
}