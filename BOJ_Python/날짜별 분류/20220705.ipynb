{
  "nbformat": 4,
  "nbformat_minor": 0,
  "metadata": {
    "colab": {
      "name": "20220705.ipynb",
      "provenance": [],
      "authorship_tag": "ABX9TyMGHgIa3Cqy258YU8qklk1K",
      "include_colab_link": true
    },
    "kernelspec": {
      "name": "python3",
      "display_name": "Python 3"
    },
    "language_info": {
      "name": "python"
    }
  },
  "cells": [
    {
      "cell_type": "markdown",
      "metadata": {
        "id": "view-in-github",
        "colab_type": "text"
      },
      "source": [
        "<a href=\"https://colab.research.google.com/github/GYURI-PARK/baekjoon/blob/main/20220705.ipynb\" target=\"_parent\"><img src=\"https://colab.research.google.com/assets/colab-badge.svg\" alt=\"Open In Colab\"/></a>"
      ]
    },
    {
      "cell_type": "code",
      "execution_count": 78,
      "metadata": {
        "colab": {
          "base_uri": "https://localhost:8080/"
        },
        "id": "mkzemmx3r5FF",
        "outputId": "385af00e-d880-4a65-94f4-ea2fa89719a4"
      },
      "outputs": [
        {
          "output_type": "stream",
          "name": "stdout",
          "text": [
            "3 6\n",
            "2 324 6\n",
            "2 [2, 324, 6]\n"
          ]
        }
      ],
      "source": [
        "#10871\n",
        "n,x = map(int,input().split())\n",
        "a = list(map(int,input().split()))\n",
        "for i in range(n):\n",
        "  if(a[i] < x):\n",
        "    print(a[i], end = \" \")\n",
        "\n"
      ]
    },
    {
      "cell_type": "code",
      "source": [
        " # 10952\n",
        " # 값은 나오는데 틀렸댕ㅠㅜㅠ\n",
        "\n",
        "while True:\n",
        "  a,b = map(int,input().split())\n",
        "  print(a + b)\n",
        "  if(a == b == 0):\n",
        "    break;\n"
      ],
      "metadata": {
        "colab": {
          "base_uri": "https://localhost:8080/"
        },
        "id": "nJjHWRa7xDWy",
        "outputId": "39a36e6f-f9e4-4f41-e7ad-d8a9c1cb0f2b"
      },
      "execution_count": 20,
      "outputs": [
        {
          "output_type": "stream",
          "name": "stdout",
          "text": [
            "2 1\n",
            "3\n",
            "0 0\n",
            "0\n"
          ]
        }
      ]
    },
    {
      "cell_type": "code",
      "source": [
        "# 10952\n",
        "while True:\n",
        "  a,b = map(int,input().split())\n",
        "  if(a == b == 0):\n",
        "    break;\n",
        "  else:\n",
        "    print(a+b)"
      ],
      "metadata": {
        "colab": {
          "base_uri": "https://localhost:8080/"
        },
        "id": "BToKSxCDz8xd",
        "outputId": "3b5f6938-cbbe-411c-b53a-81433ce6531f"
      },
      "execution_count": 21,
      "outputs": [
        {
          "name": "stdout",
          "output_type": "stream",
          "text": [
            "1 2\n",
            "3\n",
            "0 0\n"
          ]
        }
      ]
    },
    {
      "cell_type": "code",
      "source": [
        "# 10951\n",
        "while True:\n",
        "  try:\n",
        "    a,b = map(int,input().split())\n",
        "    print(a + b)\n",
        "  except:\n",
        "    break;"
      ],
      "metadata": {
        "colab": {
          "base_uri": "https://localhost:8080/"
        },
        "id": "b-zRBerr3KDI",
        "outputId": "40d90c56-f997-4652-91f8-acc270ffdb6d"
      },
      "execution_count": 22,
      "outputs": [
        {
          "name": "stdout",
          "output_type": "stream",
          "text": [
            "1 3 \n",
            "4\n",
            "3 6\n",
            "9\n",
            "1 30\n",
            "31\n",
            "\n"
          ]
        }
      ]
    },
    {
      "cell_type": "code",
      "source": [
        "# 1110\n",
        "\n",
        "a = int(input())\n",
        "count = 0;\n",
        "# 십의 자리 = 10으로 나눴을 때의 몫 //\n",
        "# 일의 자리 = 10으로 나눴을 때의 나머지 %\n",
        "# c, d = divmod(a,10)\n",
        "# new = d*10 + c+d\n",
        "\n",
        "while True:\n",
        "  count += 1\n",
        "  c, d = divmod(a,10)\n",
        "  a = d*10 + c + d\n",
        "  if(a == a):\n",
        "    break;\n",
        "print(count)"
      ],
      "metadata": {
        "colab": {
          "base_uri": "https://localhost:8080/"
        },
        "id": "_aHrOx6qEGic",
        "outputId": "e86c7608-5322-4dbb-f765-750716727c57"
      },
      "execution_count": 43,
      "outputs": [
        {
          "output_type": "stream",
          "name": "stdout",
          "text": [
            "26\n",
            "1\n"
          ]
        }
      ]
    },
    {
      "cell_type": "code",
      "source": [
        "# 10818번\n",
        "\n",
        "x = int(input())\n",
        "a = list(map(int,input().split()))\n",
        "print(min(a), max(a))  "
      ],
      "metadata": {
        "colab": {
          "base_uri": "https://localhost:8080/"
        },
        "id": "arwaDuJa67KL",
        "outputId": "934613dd-881b-4630-8936-e9d63b5d17d5"
      },
      "execution_count": 51,
      "outputs": [
        {
          "output_type": "stream",
          "name": "stdout",
          "text": [
            "3\n",
            "10 20 30\n",
            "10 30\n"
          ]
        }
      ]
    },
    {
      "cell_type": "code",
      "source": [
        "# 2562번\n",
        "\n",
        "lis =[]\n",
        "for i in range(9):\n",
        "  a = int(input());\n",
        "  lis.append(a)\n",
        "  \n",
        "print(max(lis))\n",
        "print(lis.index(max(lis))+1)\n",
        "  "
      ],
      "metadata": {
        "colab": {
          "base_uri": "https://localhost:8080/"
        },
        "id": "O8DLEGSb96ZS",
        "outputId": "9f7675b4-df6c-48a8-eb36-f9505e55cf5c"
      },
      "execution_count": 163,
      "outputs": [
        {
          "output_type": "stream",
          "name": "stdout",
          "text": [
            "23\n",
            "43\n",
            "75\n",
            "87\n",
            "8\n",
            "67\n",
            "87\n",
            "4\n",
            "5\n",
            "87\n",
            "4\n"
          ]
        }
      ]
    },
    {
      "cell_type": "code",
      "source": [
        "# 2577\n",
        "# 너무 길다....\n",
        "\n",
        "a = int(input())\n",
        "b = int(input())\n",
        "c = int(input())\n",
        "d = a * b * c\n",
        "lis = []\n",
        "x0 = 0\n",
        "x1 = 0\n",
        "x2 = 0\n",
        "x3 = 0\n",
        "x4 = 0\n",
        "x5 = 0\n",
        "x6 = 0\n",
        "x7 = 0\n",
        "x8 = 0 \n",
        "x9 = 0 \n",
        "for i in range(len(str(d))):\n",
        "  if(str(d)[i] == '0'):\n",
        "    x0 += 1;\n",
        "  elif(str(d)[i] == '1'):\n",
        "    x1 += 1;\n",
        "  elif(str(d)[i] == '2'):\n",
        "    x2 += 1;\n",
        "  elif(str(d)[i] == '3'):\n",
        "    x3 += 1;  \n",
        "  elif(str(d)[i] == '4'):\n",
        "    x4 += 1;  \n",
        "  elif(str(d)[i] == '5'):\n",
        "    x5 += 1;\n",
        "  elif(str(d)[i] == '6'):\n",
        "    x6 += 1;\n",
        "  elif(str(d)[i] == '7'):\n",
        "    x7 += 1;\n",
        "  elif(str(d)[i] == '8'):\n",
        "    x8 += 1;\n",
        "  else:\n",
        "    x9 += 1;\n",
        "\n",
        "print(x0)\n",
        "print(x1)\n",
        "print(x2)\n",
        "print(x3)\n",
        "print(x4)\n",
        "print(x5)\n",
        "print(x6)\n",
        "print(x7)\n",
        "print(x8)\n",
        "print(x9)"
      ],
      "metadata": {
        "colab": {
          "base_uri": "https://localhost:8080/"
        },
        "id": "EI8J3PvqKifE",
        "outputId": "06089993-2016-42ae-9341-97983c83b7e1"
      },
      "execution_count": 141,
      "outputs": [
        {
          "output_type": "stream",
          "name": "stdout",
          "text": [
            "234\n",
            "123\n",
            "234\n",
            "6734988\n"
          ]
        }
      ]
    },
    {
      "cell_type": "code",
      "source": [
        "# 2577\n",
        "# .count 사용해서 다시\n",
        "a = int(input())\n",
        "b = int(input())\n",
        "c = int(input())\n",
        "res = str(a*b*c)\n",
        "for i in range(10):\n",
        "  print(res.count(str(i)))"
      ],
      "metadata": {
        "colab": {
          "base_uri": "https://localhost:8080/"
        },
        "id": "cEbygxNjPtu7",
        "outputId": "f726b2b2-ccc7-4263-ae8d-1c186520644b"
      },
      "execution_count": 156,
      "outputs": [
        {
          "output_type": "stream",
          "name": "stdout",
          "text": [
            "234\n",
            "645\n",
            "678\n",
            "3\n",
            "1\n",
            "1\n",
            "2\n",
            "1\n",
            "1\n",
            "0\n",
            "0\n",
            "0\n",
            "0\n"
          ]
        }
      ]
    },
    {
      "cell_type": "code",
      "source": [
        "# 3052번\n",
        "# set()함수로 중복제거\n",
        "\n",
        "lis = []\n",
        "res = []\n",
        "for i in range(10):\n",
        "  a = int(input())\n",
        "  lis.append(a)\n",
        "  res.append(a % 42)\n",
        "print(len(set(res)))"
      ],
      "metadata": {
        "colab": {
          "base_uri": "https://localhost:8080/"
        },
        "id": "iD7w3TsCnDqk",
        "outputId": "7ffb628a-2ba7-44a9-8ac6-44d134c856e8"
      },
      "execution_count": 207,
      "outputs": [
        {
          "name": "stdout",
          "output_type": "stream",
          "text": [
            "1\n",
            "2\n",
            "3\n",
            "4\n",
            "5\n",
            "6\n",
            "7\n",
            "8\n",
            "9\n",
            "10\n"
          ]
        },
        {
          "output_type": "execute_result",
          "data": {
            "text/plain": [
              "10"
            ]
          },
          "metadata": {},
          "execution_count": 207
        }
      ]
    },
    {
      "cell_type": "code",
      "source": [
        "# 1546번\n",
        "\n",
        "n = int(input())\n",
        "sum = 0\n",
        "score = list(map(int,input().split()))\n",
        "m = max(score)\n",
        "for i in range(n):\n",
        "  score[i] = score[i]/m*100\n",
        "  sum += score[i]\n",
        "print(sum/n)"
      ],
      "metadata": {
        "colab": {
          "base_uri": "https://localhost:8080/"
        },
        "id": "sV6tgh45vS1S",
        "outputId": "2cfedb63-4f47-4137-926a-24ed9919c3bf"
      },
      "execution_count": 247,
      "outputs": [
        {
          "output_type": "stream",
          "name": "stdout",
          "text": [
            "3\n",
            "10 20 30\n",
            "66.66666666666667\n"
          ]
        }
      ]
    },
    {
      "cell_type": "code",
      "source": [
        "# 1546번 \n",
        "# input 대신 sys.stdin.readline()으로 입력받기\n",
        "import sys\n",
        "n = int(input())\n",
        "sum = 0\n",
        "score = list(map(int, sys.stdin.readline().split()))\n",
        "# list(map(int, sys.stdin.readline().split()))\n",
        "# inut자리에만 바꿔주고 나머지는 똑같이 써주면 됨\n",
        "m = max(score)\n",
        "for i in range(n):\n",
        "    score[i] = score[i]/m*100\n",
        "    sum += score[i]\n",
        "print(sum/n)"
      ],
      "metadata": {
        "colab": {
          "base_uri": "https://localhost:8080/"
        },
        "id": "wRlYwduE5ceL",
        "outputId": "6137156c-c082-48ea-8852-da7f91463597"
      },
      "execution_count": 244,
      "outputs": [
        {
          "output_type": "execute_result",
          "data": {
            "text/plain": [
              "60.00000000000001"
            ]
          },
          "metadata": {},
          "execution_count": 244
        }
      ]
    },
    {
      "cell_type": "code",
      "source": [
        "# 1110번\n",
        "n = int(input())\n",
        "a,b = divmod(n,10)\n",
        "count = 0; \n",
        "\n",
        "x1 = str(b) + str(int(a+b)%10)\n",
        "print(x1)\n",
        "a,b = divmod(int(x1), 10)\n",
        "count += 1;\n",
        "\n",
        "x2 = str(x1)[1] + str(int(a+b)%10)\n",
        "print(x2)\n",
        "a,b = divmod(int(x2), 10)\n",
        "count += 1;\n",
        "\n",
        "x3 = str(x2)[1] + str(int(a+b)%10)\n",
        "print(x3)\n",
        "a,b = divmod(int(x3), 10)\n",
        "count += 1;\n",
        "\n",
        "x4 = str(x3)[1] + str(int(a+b)%10)\n",
        "print(x4)\n",
        "count += 1;\n",
        "\n",
        "print(count)"
      ],
      "metadata": {
        "colab": {
          "base_uri": "https://localhost:8080/"
        },
        "id": "r3yNPjEA8Tzp",
        "outputId": "14b33adf-b8a1-49b4-f752-dd5c7fd4eaa9"
      },
      "execution_count": 277,
      "outputs": [
        {
          "output_type": "stream",
          "name": "stdout",
          "text": [
            "42\n",
            "26\n",
            "68\n",
            "84\n",
            "42\n",
            "4\n"
          ]
        }
      ]
    },
    {
      "cell_type": "code",
      "source": [
        "# 1110번\n",
        "n = int(input())\n",
        "a,b = divmod(n,10)\n",
        "count = 0; \n",
        "\n",
        "while True:\n",
        "  x1 = str(b) + str(int(a+b)%10)\n",
        "  a,b = divmod(int(x1), 10)\n",
        "  count += 1;\n",
        "\n",
        "  if (int(x1) == n):\n",
        "    break;\n",
        "\n",
        "print(count)"
      ],
      "metadata": {
        "colab": {
          "base_uri": "https://localhost:8080/"
        },
        "id": "9C0se3pkKgTN",
        "outputId": "049371cf-3b73-469b-9939-9ae24942dcdc"
      },
      "execution_count": 283,
      "outputs": [
        {
          "output_type": "stream",
          "name": "stdout",
          "text": [
            "42\n",
            "4\n"
          ]
        }
      ]
    }
  ]
}
