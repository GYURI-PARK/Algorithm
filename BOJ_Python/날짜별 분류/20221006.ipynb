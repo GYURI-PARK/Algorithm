{
 "cells": [
  {
   "cell_type": "code",
   "execution_count": null,
   "id": "644e5b26",
   "metadata": {},
   "outputs": [],
   "source": [
    "# 2075번 : N번째 큰 수\n",
    "\n",
    "from heapq import heappop, heappush\n",
    "\n",
    "n = int(input())\n",
    "heap = []\n",
    "\n",
    "for i in range(n):\n",
    "    num = int(input())\n",
    "    if num != 0:\n",
    "        heappush(heap,(-num, num))\n",
    "        \n",
    "    else:\n",
    "        try:\n",
    "            print(heappop(heap)[1])\n",
    "        except:\n",
    "            print(0)"
   ]
  },
  {
   "cell_type": "code",
   "execution_count": 4,
   "id": "1318f9da",
   "metadata": {},
   "outputs": [
    {
     "name": "stdout",
     "output_type": "stream",
     "text": [
      "3\n",
      "434 5 3\n",
      "45 6 6\n",
      "34 43 23\n",
      "43\n"
     ]
    }
   ],
   "source": [
    "# 메모리 초과\n",
    "\n",
    "from heapq import heappop, heappush\n",
    "\n",
    "n = int(input())\n",
    "heap = []\n",
    "\n",
    "for i in range(n):\n",
    "    li = input().split()\n",
    "    for j in li:\n",
    "        heappush(heap, (-int(j), int(j)))\n",
    "        \n",
    "res = []\n",
    "for i in range(n):\n",
    "    res.append(heappop(heap)[1])\n",
    "print(min(res))\n",
    "    "
   ]
  },
  {
   "cell_type": "code",
   "execution_count": 12,
   "id": "b938634c",
   "metadata": {},
   "outputs": [
    {
     "name": "stdout",
     "output_type": "stream",
     "text": [
      "3\n",
      "2 3 4\n",
      "6 7 8\n",
      "4 5 6\n",
      "4\n"
     ]
    }
   ],
   "source": [
    "\n",
    "from heapq import heappop, heappush\n",
    "\n",
    "n = int(input())\n",
    "\n",
    "res = []\n",
    "\n",
    "for i in range(n):\n",
    "    li = input().split()\n",
    "    heap = []\n",
    "    for j in li:\n",
    "        heappush(heap, (-int(j), int(j)))\n",
    "    heappush(res, heappop(heap)[1])\n",
    "print(min(res))\n",
    "    "
   ]
  },
  {
   "cell_type": "code",
   "execution_count": 5,
   "id": "819e76b0",
   "metadata": {},
   "outputs": [
    {
     "name": "stdout",
     "output_type": "stream",
     "text": [
      "3\n",
      "9 8 7\n",
      "6 5 4\n",
      "3 2 1\n",
      "[9]\n",
      "[8, 9]\n",
      "[7, 9, 8]\n",
      "[6, 7, 8, 9]\n",
      "[5, 7, 8, 9]\n",
      "[4, 7, 8, 9]\n",
      "[3, 7, 8, 9]\n",
      "[2, 7, 8, 9]\n",
      "[1, 7, 8, 9]\n",
      "7\n"
     ]
    }
   ],
   "source": [
    "import heapq\n",
    "\n",
    "n=int(input())\n",
    "graph=[]\n",
    "for i in range(n):\n",
    "    graph.append(list(map(int, input().split())))\n",
    "\n",
    "heap=[]\n",
    "heapq.heapify(heap)\n",
    "for i in range(n):\n",
    "    for j in range(n):\n",
    "        heapq.heappush(heap,graph[i][j])\n",
    "        print(heap)\n",
    "        if len(heap) > n:\n",
    "            heapq.heappop(heap)\n",
    "\n",
    "print(heapq.heappop(heap))"
   ]
  },
  {
   "cell_type": "code",
   "execution_count": 6,
   "id": "3529fa65",
   "metadata": {},
   "outputs": [
    {
     "data": {
      "text/plain": [
       "[[9, 8, 7], [6, 5, 4], [3, 2, 1]]"
      ]
     },
     "execution_count": 6,
     "metadata": {},
     "output_type": "execute_result"
    }
   ],
   "source": [
    "graph"
   ]
  },
  {
   "cell_type": "code",
   "execution_count": 3,
   "id": "fd45226f",
   "metadata": {},
   "outputs": [
    {
     "data": {
      "text/plain": [
       "[7, 8]"
      ]
     },
     "execution_count": 3,
     "metadata": {},
     "output_type": "execute_result"
    }
   ],
   "source": [
    "heap"
   ]
  },
  {
   "cell_type": "code",
   "execution_count": 7,
   "id": "1b66dfe8",
   "metadata": {},
   "outputs": [
    {
     "name": "stdout",
     "output_type": "stream",
     "text": [
      "7\n",
      "1\n",
      "1\n",
      "2\n",
      "1\n",
      "3\n",
      "2\n",
      "4\n",
      "2\n",
      "5\n",
      "3\n",
      "9\n",
      "3\n",
      "9\n",
      "4\n"
     ]
    }
   ],
   "source": [
    "# 가운데를 말해요\n",
    "\n",
    "import heapq\n",
    "\n",
    "n = int(input())\n",
    "max_h, min_h = [], []\n",
    "\n",
    "for i in range(n):\n",
    "    num = int(input())\n",
    "    if len(max_h) == len(min_h):\n",
    "        heapq.heappush(max_h, -num)\n",
    "    else:\n",
    "        heapq.heappush(min_h, num)\n",
    "\n",
    "    if len(max_h) >= 1 and len(min_h) >= 1 and max_h[0] * -1 > min_h[0]:\n",
    "        max_value = heapq.heappop(max_h) * -1\n",
    "        min_value = heapq.heappop(min_h)\n",
    "        \n",
    "        \n",
    "        heapq.heappush(max_h, min_value * -1)\n",
    "        heapq.heappush(min_h, max_value)\n",
    "\n",
    "    print(max_h[0] * -1)"
   ]
  },
  {
   "cell_type": "code",
   "execution_count": null,
   "id": "6a7223c3",
   "metadata": {},
   "outputs": [],
   "source": []
  }
 ],
 "metadata": {
  "kernelspec": {
   "display_name": "Python 3 (ipykernel)",
   "language": "python",
   "name": "python3"
  },
  "language_info": {
   "codemirror_mode": {
    "name": "ipython",
    "version": 3
   },
   "file_extension": ".py",
   "mimetype": "text/x-python",
   "name": "python",
   "nbconvert_exporter": "python",
   "pygments_lexer": "ipython3",
   "version": "3.9.12"
  }
 },
 "nbformat": 4,
 "nbformat_minor": 5
}
