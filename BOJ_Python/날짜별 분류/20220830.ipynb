{
  "nbformat": 4,
  "nbformat_minor": 0,
  "metadata": {
    "colab": {
      "name": "20220830.ipynb",
      "provenance": [],
      "authorship_tag": "ABX9TyP3x42QjlQRdzGxM2V/7/Kz",
      "include_colab_link": true
    },
    "kernelspec": {
      "name": "python3",
      "display_name": "Python 3"
    },
    "language_info": {
      "name": "python"
    }
  },
  "cells": [
    {
      "cell_type": "markdown",
      "metadata": {
        "id": "view-in-github",
        "colab_type": "text"
      },
      "source": [
        "<a href=\"https://colab.research.google.com/github/GYURI-PARK/baekjoon/blob/main/20220830.ipynb\" target=\"_parent\"><img src=\"https://colab.research.google.com/assets/colab-badge.svg\" alt=\"Open In Colab\"/></a>"
      ]
    },
    {
      "cell_type": "code",
      "execution_count": 1,
      "metadata": {
        "colab": {
          "base_uri": "https://localhost:8080/"
        },
        "id": "7LA7ah-cH2Va",
        "outputId": "f5c2f7be-842d-4b0d-dfe6-1b846343aaf7"
      },
      "outputs": [
        {
          "output_type": "stream",
          "name": "stdout",
          "text": [
            "3 7 299\n",
            "-73\n"
          ]
        }
      ],
      "source": [
        "# 달팽이는 올라가고 싶다\n",
        "\n",
        "a,b,v = map(int,input().split())\n",
        "k = (v-b)/(a-b)\n",
        "print(int(k) if k == int(k) else int(k)+1)\n"
      ]
    },
    {
      "cell_type": "code",
      "source": [],
      "metadata": {
        "id": "O1IjZ5kXH9_6"
      },
      "execution_count": null,
      "outputs": []
    }
  ]
}