{
  "nbformat": 4,
  "nbformat_minor": 0,
  "metadata": {
    "colab": {
      "name": "20220725.ipynb",
      "provenance": [],
      "collapsed_sections": [],
      "authorship_tag": "ABX9TyP2rt4lzV+3tIunsMUcjCF2",
      "include_colab_link": true
    },
    "kernelspec": {
      "name": "python3",
      "display_name": "Python 3"
    },
    "language_info": {
      "name": "python"
    }
  },
  "cells": [
    {
      "cell_type": "markdown",
      "metadata": {
        "id": "view-in-github",
        "colab_type": "text"
      },
      "source": [
        "<a href=\"https://colab.research.google.com/github/GYURI-PARK/baekjoon/blob/main/20220725.ipynb\" target=\"_parent\"><img src=\"https://colab.research.google.com/assets/colab-badge.svg\" alt=\"Open In Colab\"/></a>"
      ]
    },
    {
      "cell_type": "code",
      "execution_count": 27,
      "metadata": {
        "colab": {
          "base_uri": "https://localhost:8080/"
        },
        "id": "NPWaxrz6yFbP",
        "outputId": "f3552763-36a5-4699-8aed-e01d59d78498"
      },
      "outputs": [
        {
          "output_type": "stream",
          "name": "stdout",
          "text": [
            "3\n",
            "6 12 59\n",
            "510\n",
            "6 6 12\n",
            "602\n",
            "6 12 10\n",
            "402\n"
          ]
        }
      ],
      "source": [
        "# 10250번 : ACM 호텔\n",
        "# 프로그램의 입력은 T 개의 테스트 데이터로 이루어져 있는데 T 는 입력의 맨 첫 줄에 주어진다. \n",
        "# 각 테스트 데이터는 한 행으로서 H, W, N, 세 정수를 포함하고 있으며 각각 호텔의 층 수, 각 층의 방 수, 몇 번째 손님인지를 나타낸다(1 ≤ H, W ≤ 99, 1 ≤ N ≤ H × W). \n",
        "\n",
        "t = int(input())\n",
        "\n",
        "for i in range(t):\n",
        "  h,w,n = map(int,input().split())\n",
        "  a3 = n % h\n",
        "  a1 = (n // h) + 1\n",
        "  if a3 == 0:\n",
        "    a3 =  h\n",
        "    a1 = n // h\n",
        "  if a1 > 9 :\n",
        "    res = int(str(a3) + str(a1))\n",
        "  else:\n",
        "    res = int(str(a3) + '0' + str(a1))\n",
        "  print(res)"
      ]
    },
    {
      "cell_type": "code",
      "source": [
        "# 2869번 : 달팽이는 올라가고 싶다.\n",
        "# 땅 위에 달팽이가 있다. 이 달팽이는 높이가 V미터인 나무 막대를 올라갈 것이다.\n",
        "# 달팽이는 낮에 A미터 올라갈 수 있다. 하지만, 밤에 잠을 자는 동안 B미터 미끄러진다. 또, 정상에 올라간 후에는 미끄러지지 않는다.\n",
        "# 달팽이가 나무 막대를 모두 올라가려면, 며칠이 걸리는지 구하는 프로그램을 작성하시오.\n",
        "# 첫째 줄에 세 정수 A, B, V가 공백으로 구분되어서 주어진다. (1 ≤ B < A ≤ V ≤ 1,000,000,000)\n",
        "# 첫째 줄에 달팽이가 나무 막대를 모두 올라가는데 며칠이 걸리는지 출력한다.\n",
        "\n",
        "a, b, v = map(int,input().split())\n",
        "cur = 0\n",
        "count = 0\n",
        "while (True):\n",
        "  cur += a\n",
        "  if cur > v:\n",
        "    count += 1\n",
        "    break;\n",
        "  cur -= b\n",
        "  count += 1\n",
        "\n",
        "print(count)"
      ],
      "metadata": {
        "colab": {
          "base_uri": "https://localhost:8080/"
        },
        "id": "48fQKzqf56aE",
        "outputId": "af0d6aa2-d77f-42f2-c227-eabc6853c9dd"
      },
      "execution_count": 5,
      "outputs": [
        {
          "output_type": "stream",
          "name": "stdout",
          "text": [
            "5 1 6\n",
            "2\n"
          ]
        }
      ]
    },
    {
      "cell_type": "code",
      "source": [
        "# 2108번 : 통계학\n",
        "\n",
        "# 첫째 줄에는 산술평균을 출력한다. 소수점 이하 첫째 자리에서 반올림한 값을 출력한다.\n",
        "# 둘째 줄에는 중앙값을 출력한다.\n",
        "# 셋째 줄에는 최빈값을 출력한다. 여러 개 있을 때에는 최빈값 중 두 번째로 작은 값을 출력한다.\n",
        "# 넷째 줄에는 범위를 출력한다.\n",
        "\n",
        "n = int(input())\n",
        "num = []\n",
        "for i in range(n):\n",
        "  num.append(int(input()))\n",
        "\n",
        "# 소수 첫째 자리에서 반올림 > round(숫자)\n",
        "# 1 의 자리에서 반올림 > round(num, -1)\n",
        "# 소수 두번째 자리에서 반올림 > round(num, 1)\n",
        "a1 = round((sum(num) / n))\n",
        "#print(a1)\n",
        "a2 = sorted(num)[round(n/2)]\n",
        "#print(sorted(num))\n",
        "#print(a2)\n",
        "imp = []\n",
        "for _ in num:\n",
        "    imp.append(num.count(_))\n",
        "if imp.count(max(imp)) >= 2 :\n",
        "  a3 = sorted(num)[1]\n",
        "else:\n",
        "  a3 = num.find(max(imp))\n",
        "#print(a3)\n",
        "a4 = max(num) - min(num)\n",
        "print(a1)\n",
        "print(a2)\n",
        "print(a3)\n",
        "print(a4)"
      ],
      "metadata": {
        "colab": {
          "base_uri": "https://localhost:8080/"
        },
        "id": "CGaMyI-aAGFU",
        "outputId": "c8db9e5a-bd23-4761-d595-f76c72a52058"
      },
      "execution_count": 25,
      "outputs": [
        {
          "output_type": "stream",
          "name": "stdout",
          "text": [
            "5\n",
            "1\n",
            "3\n",
            "8\n",
            "-2\n",
            "2\n",
            "2\n",
            "2\n",
            "1\n",
            "10\n"
          ]
        }
      ]
    },
    {
      "cell_type": "code",
      "source": [
        "print(a3)"
      ],
      "metadata": {
        "colab": {
          "base_uri": "https://localhost:8080/"
        },
        "id": "198_tZlIz7on",
        "outputId": "a0e8b67a-7e4e-4c82-f4ec-6ad2a50caa36"
      },
      "execution_count": 21,
      "outputs": [
        {
          "output_type": "stream",
          "name": "stdout",
          "text": [
            "1\n"
          ]
        }
      ]
    },
    {
      "cell_type": "code",
      "source": [
        ""
      ],
      "metadata": {
        "id": "6QTDArTICqv2"
      },
      "execution_count": null,
      "outputs": []
    }
  ]
}