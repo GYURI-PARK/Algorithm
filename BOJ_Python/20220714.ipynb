{
  "nbformat": 4,
  "nbformat_minor": 0,
  "metadata": {
    "colab": {
      "name": "20220714.ipynb",
      "provenance": [],
      "authorship_tag": "ABX9TyPLwekbnyDvIEA3fg4CybV0",
      "include_colab_link": true
    },
    "kernelspec": {
      "name": "python3",
      "display_name": "Python 3"
    },
    "language_info": {
      "name": "python"
    }
  },
  "cells": [
    {
      "cell_type": "markdown",
      "metadata": {
        "id": "view-in-github",
        "colab_type": "text"
      },
      "source": [
        "<a href=\"https://colab.research.google.com/github/GYURI-PARK/baekjoon/blob/main/20220714.ipynb\" target=\"_parent\"><img src=\"https://colab.research.google.com/assets/colab-badge.svg\" alt=\"Open In Colab\"/></a>"
      ]
    },
    {
      "cell_type": "code",
      "execution_count": null,
      "metadata": {
        "id": "j__v589xE__S"
      },
      "outputs": [],
      "source": [
        "# 2941번 : 크로아티아 알파벳\n",
        "\n",
        "croatia = {'c=':2, 'c-':2, 'dz=':3, 'd-':2, 'lj':2, 'nj':2, 's=':2, 'z=':2}\n",
        "s = input()"
      ]
    },
    {
      "cell_type": "code",
      "source": [
        "s = input()\n",
        "croatia = ['c=','c-','dz=','d-','lj','nj','s=','z=']\n",
        "count3 = 0\n",
        "count2 = 0\n",
        "tot = len(s) \n",
        "res = {}\n",
        "for i in range(len(croatia)):\n",
        "  res[i] = s.count(croatia[i])\n",
        "  if res[i] > 0:\n",
        "    if i ==  2:\n",
        "      count3 += 1\n",
        "      s = s.replace(croatia[i],\"\")\n",
        "    else:\n",
        "      count2 += 1\n",
        "      s = s.replace(croatia[i],\"\")\n",
        "# print(count3 + count2 + tot - (count3 * 3) - (count2 * 2))\n",
        "print(-2*count3 - count2 +tot)"
      ],
      "metadata": {
        "colab": {
          "base_uri": "https://localhost:8080/"
        },
        "id": "xsYMH3-iIfux",
        "outputId": "e697b9af-f2e6-4a75-835e-08d651541f7f"
      },
      "execution_count": 3,
      "outputs": [
        {
          "output_type": "stream",
          "name": "stdout",
          "text": [
            "nljj\n",
            "2\n"
          ]
        }
      ]
    },
    {
      "cell_type": "code",
      "source": [
        "# 1316번 : 그룹 단어 체커\n",
        "\n",
        "n = int(input())\n",
        "\n",
        "for i in range(n):\n",
        "  s = input()\n",
        "  emp = []\n",
        "  count = 0\n",
        "  for i in range(len(s)-1):\n",
        "    if(s[i] not in emp):\n",
        "      emp.append(s[i])\n",
        "    if(s[i+1] != s[i] and s[i] in emp):\n",
        "      count += 1 \n",
        "print(count)"
      ],
      "metadata": {
        "id": "Z6J-FybbJd34",
        "colab": {
          "base_uri": "https://localhost:8080/"
        },
        "outputId": "d151af28-cb31-429a-c565-f9a81624e2ed"
      },
      "execution_count": 2,
      "outputs": [
        {
          "output_type": "stream",
          "name": "stdout",
          "text": [
            "4\n",
            "aba\n",
            "abab\n",
            "abcabc\n",
            "a\n",
            "0\n"
          ]
        }
      ]
    },
    {
      "cell_type": "code",
      "source": [
        "count"
      ],
      "metadata": {
        "colab": {
          "base_uri": "https://localhost:8080/"
        },
        "id": "mL_FnQDVLAu1",
        "outputId": "3a4c0b51-f78a-460e-c385-6c1b12e37204"
      },
      "execution_count": 14,
      "outputs": [
        {
          "output_type": "execute_result",
          "data": {
            "text/plain": [
              "0"
            ]
          },
          "metadata": {},
          "execution_count": 14
        }
      ]
    },
    {
      "cell_type": "code",
      "source": [
        "# 글자 주어지면 각 알파벳 별 개수 세는 함수 => 변수 저장\n",
        "# 숫자가 다르면 그룹단어 안됨\n"
      ],
      "metadata": {
        "id": "Tma8Dvfee8Hl"
      },
      "execution_count": null,
      "outputs": []
    },
    {
      "cell_type": "code",
      "source": [
        "# 문자열 처음부터 돌아가는데 바로 앞 알파벳과 같으면 리스트에 추가\n",
        "# 바로앞 단어와 다르지만 리스트에 담긴 알파벳과 같으면 추출\n",
        "\n",
        "n = int(input())\n",
        "sum = 0\n",
        "for i in range(n):\n",
        "  s = input()\n",
        "  checklist = []\n",
        "  count = 0\n",
        " \n",
        "  for j in range(len(s)-1):\n",
        "    if s[j+1] == s[j]:\n",
        "      checklist.append(s[j])\n",
        "      print(checklist)\n",
        "    else:\n",
        "      if s[j+1] in checklist:\n",
        "        count += 1\n",
        "        print(checklist)\n",
        "        print(count)\n",
        "        sum += count\n",
        "        print(sum)\n",
        "\n",
        "#print(n - sum)"
      ],
      "metadata": {
        "colab": {
          "base_uri": "https://localhost:8080/"
        },
        "id": "Wrfu9YwUk4Lq",
        "outputId": "33a63167-a21d-45e4-e985-247c92bfe54f"
      },
      "execution_count": 28,
      "outputs": [
        {
          "name": "stdout",
          "output_type": "stream",
          "text": [
            "1\n",
            "aca\n"
          ]
        }
      ]
    },
    {
      "cell_type": "code",
      "source": [
        "########################\n",
        "n = int(input())\n",
        "sum = 0\n",
        "for i in range(n):\n",
        "  s = input()\n",
        "  checklist = []\n",
        "  count = 0\n",
        "  for j in range(len(s)-1):\n",
        "    #count = 0\n",
        "    checklist.append(s[j])\n",
        "    if s[j+1] != s[j] and s[j+1] in checklist:\n",
        "      count += 1\n",
        "      #sum += count\n",
        "    if count > 0 :\n",
        "      sum += 1\n",
        "      \n",
        "print(n - sum)\n"
      ],
      "metadata": {
        "colab": {
          "base_uri": "https://localhost:8080/"
        },
        "id": "5mmIsjySPdyF",
        "outputId": "17bfe859-ac5e-48e4-97cd-3f939b0911ba"
      },
      "execution_count": 55,
      "outputs": [
        {
          "output_type": "stream",
          "name": "stdout",
          "text": [
            "1\n",
            "ytyty\n",
            "-2\n"
          ]
        }
      ]
    },
    {
      "cell_type": "code",
      "source": [
        "# 그룹 단어 체커\n",
        "\n",
        "n = int(input())\n",
        "sum = 0\n",
        "for i in range(n):\n",
        "  s = input()\n",
        "  emp = []\n",
        "  count = 0\n",
        "  for j in range(len(s)-1):\n",
        "    if s[j] not in emp:\n",
        "      emp.append(s[j])\n",
        "    elif s[j] != s[j+1]:\n",
        "      count += 1\n",
        "    if count > 0:\n",
        "      sum += 1\n",
        "print(n - sum)"
      ],
      "metadata": {
        "colab": {
          "base_uri": "https://localhost:8080/"
        },
        "id": "9ywSE_v7Mynf",
        "outputId": "665f915e-fd26-40ed-aca9-8d8b13c3f964"
      },
      "execution_count": 62,
      "outputs": [
        {
          "output_type": "stream",
          "name": "stdout",
          "text": [
            "5\n",
            "ab\n",
            "ba\n",
            "aa\n",
            "aba\n",
            "bb\n",
            "5\n"
          ]
        }
      ]
    },
    {
      "cell_type": "code",
      "source": [
        "# 1316번 : 그룹 단어 체커\n",
        "\n",
        "######이거야#########\n",
        "\n",
        "n = int(input())\n",
        "res = n\n",
        "for i in range(n):\n",
        "  s = input()\n",
        "  for j in range(len(s)-1):\n",
        "    if s[j] == s[j+1]:\n",
        "      pass\n",
        "    elif s[j] in s[j+1:]:\n",
        "      res -= 1\n",
        "      break\n",
        "print(res)\n",
        "\n",
        "######이거야#########"
      ],
      "metadata": {
        "colab": {
          "base_uri": "https://localhost:8080/"
        },
        "id": "S0Xtbzpjzj9-",
        "outputId": "ddc6f4a4-a100-4907-d10e-3e2294c261cb"
      },
      "execution_count": 65,
      "outputs": [
        {
          "output_type": "stream",
          "name": "stdout",
          "text": [
            "3\n",
            "happy\n",
            "new\n",
            "year\n",
            "3\n"
          ]
        }
      ]
    },
    {
      "cell_type": "code",
      "source": [
        ""
      ],
      "metadata": {
        "id": "XASPDncU3dh0"
      },
      "execution_count": null,
      "outputs": []
    }
  ]
}