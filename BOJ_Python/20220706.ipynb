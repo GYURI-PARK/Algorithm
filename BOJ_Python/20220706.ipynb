{
  "nbformat": 4,
  "nbformat_minor": 0,
  "metadata": {
    "colab": {
      "name": "20220706.ipynb",
      "provenance": [],
      "authorship_tag": "ABX9TyOsDSSDMYzEVNrVfcVVJkYG",
      "include_colab_link": true
    },
    "kernelspec": {
      "name": "python3",
      "display_name": "Python 3"
    },
    "language_info": {
      "name": "python"
    }
  },
  "cells": [
    {
      "cell_type": "markdown",
      "metadata": {
        "id": "view-in-github",
        "colab_type": "text"
      },
      "source": [
        "<a href=\"https://colab.research.google.com/github/GYURI-PARK/baekjoon/blob/main/20220706.ipynb\" target=\"_parent\"><img src=\"https://colab.research.google.com/assets/colab-badge.svg\" alt=\"Open In Colab\"/></a>"
      ]
    },
    {
      "cell_type": "code",
      "execution_count": null,
      "metadata": {
        "id": "jw6a--vw1Gnc"
      },
      "outputs": [],
      "source": [
        "# 15596\n",
        "def solve(a):\n",
        "    return sum(a)\n"
      ]
    },
    {
      "cell_type": "code",
      "source": [
        "# 15596\n",
        "\n",
        "def solve(a):\n",
        "    ans = 0\n",
        "    for n in a:\n",
        "        ans += n\n",
        "    return ans"
      ],
      "metadata": {
        "id": "oKdGexH35jCm"
      },
      "execution_count": null,
      "outputs": []
    },
    {
      "cell_type": "code",
      "source": [
        "# 8958\n",
        "\n",
        "n = int(input())\n",
        "a = str(map(str,input().split()))\n",
        "score = 0\n",
        "res = 0\n",
        "for i in range(int(len(a))):\n",
        "  if(a[i] == \"O\"):\n",
        "    score += 1"
      ],
      "metadata": {
        "colab": {
          "base_uri": "https://localhost:8080/"
        },
        "id": "_PLbsHux_W5y",
        "outputId": "531d268a-c513-4ad5-f047-2cf5f6262741"
      },
      "execution_count": 68,
      "outputs": [
        {
          "name": "stdout",
          "output_type": "stream",
          "text": [
            "4\n",
            "ohoh\n"
          ]
        }
      ]
    },
    {
      "cell_type": "code",
      "source": [
        "\n",
        "# 8958\n",
        "\n",
        "# 문제하나하나마다 점수 구한다음 합치기\n",
        "# 예) x = 'OOXOXOXXXOOO'\n",
        "x = 'OOXOXOXXXOOO'\n",
        "x[0] = 1\n",
        "x=[1] = 2\n",
        "x[3] = 1\n",
        "x[5] = 1\n",
        "x[9] = 1\n",
        "x[10] = 2\n",
        "x[11] = 3\n",
        "score = []\n",
        "if(x[i] == 'X'):\n",
        "  score[i] = 0\n",
        "elif(x[i-1] == 'X'):\n",
        "  score[i] =1\n",
        "elif(score[i-1]=1)\n",
        "\n"
      ],
      "metadata": {
        "id": "h3Ly3N7NJ-_-"
      },
      "execution_count": null,
      "outputs": []
    },
    {
      "cell_type": "code",
      "source": [
        "\n",
        "# 11654번\n",
        "\n",
        "def asc(n):\n",
        "  return(ord(n))\n",
        "\n",
        "\n",
        "n = input()\n",
        "print(ord(n))\n"
      ],
      "metadata": {
        "colab": {
          "base_uri": "https://localhost:8080/"
        },
        "id": "QXMJqhMYAFjv",
        "outputId": "da8e7d9d-c1af-4c54-8045-ee68d2e1695f"
      },
      "execution_count": null,
      "outputs": [
        {
          "output_type": "stream",
          "name": "stdout",
          "text": [
            "a\n",
            "97\n"
          ]
        }
      ]
    },
    {
      "cell_type": "code",
      "source": [
        "# 11720번\n",
        "\n",
        "n = int(input())\n",
        "x = input()\n",
        "res1 = 0\n",
        "for i in range(n):\n",
        "  res1 += int(x[i])\n",
        "\n",
        "print(res1)"
      ],
      "metadata": {
        "colab": {
          "base_uri": "https://localhost:8080/",
          "height": 271
        },
        "id": "X3q1AR-gOf75",
        "outputId": "47fd3218-78bf-477a-b5d0-f2917ceeb779"
      },
      "execution_count": 67,
      "outputs": [
        {
          "name": "stdout",
          "output_type": "stream",
          "text": [
            "3\n",
            "4\n"
          ]
        },
        {
          "output_type": "error",
          "ename": "IndexError",
          "evalue": "ignored",
          "traceback": [
            "\u001b[0;31m---------------------------------------------------------------------------\u001b[0m",
            "\u001b[0;31mIndexError\u001b[0m                                Traceback (most recent call last)",
            "\u001b[0;32m<ipython-input-67-1202904f0087>\u001b[0m in \u001b[0;36m<module>\u001b[0;34m()\u001b[0m\n\u001b[1;32m      5\u001b[0m \u001b[0mres1\u001b[0m \u001b[0;34m=\u001b[0m \u001b[0;36m0\u001b[0m\u001b[0;34m\u001b[0m\u001b[0;34m\u001b[0m\u001b[0m\n\u001b[1;32m      6\u001b[0m \u001b[0;32mfor\u001b[0m \u001b[0mi\u001b[0m \u001b[0;32min\u001b[0m \u001b[0mrange\u001b[0m\u001b[0;34m(\u001b[0m\u001b[0mn\u001b[0m\u001b[0;34m)\u001b[0m\u001b[0;34m:\u001b[0m\u001b[0;34m\u001b[0m\u001b[0;34m\u001b[0m\u001b[0m\n\u001b[0;32m----> 7\u001b[0;31m   \u001b[0mres1\u001b[0m \u001b[0;34m+=\u001b[0m \u001b[0mint\u001b[0m\u001b[0;34m(\u001b[0m\u001b[0mx\u001b[0m\u001b[0;34m[\u001b[0m\u001b[0mi\u001b[0m\u001b[0;34m]\u001b[0m\u001b[0;34m)\u001b[0m\u001b[0;34m\u001b[0m\u001b[0;34m\u001b[0m\u001b[0m\n\u001b[0m\u001b[1;32m      8\u001b[0m \u001b[0;34m\u001b[0m\u001b[0m\n\u001b[1;32m      9\u001b[0m \u001b[0mprint\u001b[0m\u001b[0;34m(\u001b[0m\u001b[0mres1\u001b[0m\u001b[0;34m)\u001b[0m\u001b[0;34m\u001b[0m\u001b[0;34m\u001b[0m\u001b[0m\n",
            "\u001b[0;31mIndexError\u001b[0m: string index out of range"
          ]
        }
      ]
    },
    {
      "cell_type": "code",
      "source": [
        "# 4344번\n",
        "# 반복문 없이\n",
        "\n",
        "n = int(input())\n",
        "lst = list(map(int,input().split()))\n",
        "avg = int(sum(lst[1:])) / int(lst[0])\n",
        "\n",
        "\n",
        "# 평균을 넘는 사람들의 비율 구하기\n",
        "count = 0\n",
        "if(int(lst[1]) > avg) :\n",
        "  count += 1\n",
        "if(int(lst[2]) > avg) :\n",
        "  count += 1\n",
        "if(int(lst[3]) > avg) :\n",
        "  count += 1\n",
        "if(int(lst[4]) > avg) :\n",
        "  count += 1\n",
        "if(int(lst[5]) > avg) :\n",
        "  count += 1\n",
        "pro = (count/lst[0]) * 100"
      ],
      "metadata": {
        "colab": {
          "base_uri": "https://localhost:8080/"
        },
        "id": "ep73lduzQE-h",
        "outputId": "c02d9c5e-a43e-4cc7-fa38-e2b238b63188"
      },
      "execution_count": 107,
      "outputs": [
        {
          "name": "stdout",
          "output_type": "stream",
          "text": [
            "3\n",
            "5 37 28 39 69 39\n"
          ]
        }
      ]
    },
    {
      "cell_type": "code",
      "source": [
        "# 4344번\n",
        "# 소수점 표현하기\n",
        "\n",
        "\n",
        "n = int(input())\n",
        "lst = []\n",
        "for i in range(n):\n",
        "  lst.append(list(map(int,input().split())))\n",
        "  avg = sum(lst[i][1:]) / lst[i][0]\n",
        "  count = 0 \n",
        "  for j in range(1,int(lst[i][0])+1):\n",
        "    if(int(lst[i][j]) > avg):\n",
        "      count += 1\n",
        "    pro = (count/lst[i][0]) * 100\n",
        "    \n",
        "  print('%.3f' %pro + '%')\n",
        "  "
      ],
      "metadata": {
        "colab": {
          "base_uri": "https://localhost:8080/"
        },
        "id": "OWcDcy1_RVSN",
        "outputId": "5fac9363-4ee5-4713-e144-ae3f57bc7a66"
      },
      "execution_count": 197,
      "outputs": [
        {
          "output_type": "stream",
          "name": "stdout",
          "text": [
            "5\n",
            "5 50 50 70 80 100\n",
            "40.000%\n",
            "7 100 95 90 80 70 60 50\n",
            "57.143%\n",
            "3 70 90 80\n",
            "33.333%\n",
            "3 70 90 81\n",
            "66.667%\n",
            "9 100 99 98 97 96 95 94 93 91\n",
            "55.556%\n"
          ]
        }
      ]
    },
    {
      "cell_type": "code",
      "source": [
        "print(f'{pro:.3f}%')\n",
        "print(format(pro,'.3f%'))"
      ],
      "metadata": {
        "colab": {
          "base_uri": "https://localhost:8080/"
        },
        "id": "DlFo6_gX2Gsm",
        "outputId": "235271ce-6867-4ee0-fe6b-dd104df78f3f"
      },
      "execution_count": 180,
      "outputs": [
        {
          "output_type": "execute_result",
          "data": {
            "text/plain": [
              "3"
            ]
          },
          "metadata": {},
          "execution_count": 180
        }
      ]
    }
  ]
}
