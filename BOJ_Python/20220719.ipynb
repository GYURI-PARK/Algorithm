{
  "nbformat": 4,
  "nbformat_minor": 0,
  "metadata": {
    "colab": {
      "name": "20220719.ipynb",
      "provenance": [],
      "authorship_tag": "ABX9TyPCYAooojBWuo8faAtJ7E99",
      "include_colab_link": true
    },
    "kernelspec": {
      "name": "python3",
      "display_name": "Python 3"
    },
    "language_info": {
      "name": "python"
    }
  },
  "cells": [
    {
      "cell_type": "markdown",
      "metadata": {
        "id": "view-in-github",
        "colab_type": "text"
      },
      "source": [
        "<a href=\"https://colab.research.google.com/github/GYURI-PARK/baekjoon/blob/main/20220719.ipynb\" target=\"_parent\"><img src=\"https://colab.research.google.com/assets/colab-badge.svg\" alt=\"Open In Colab\"/></a>"
      ]
    },
    {
      "cell_type": "code",
      "source": [
        "# 2775번 : 부녀회장이 될테야\n",
        "\n",
        "# 첫 번째 줄에 Test case의 수 T가 주어진다. 그리고 각각의 케이스마다 입력으로 첫 번째 줄에 정수 k, 두 번째 줄에 정수 n이 주어진다\n",
        "# 주어지는 양의 정수 k와 n에 대해 k층에 n호에는 몇 명이 살고 있는지 출력하라.\n",
        "t = int(input())\n",
        "for i in range(t):\n",
        "  k,n = map(int,input().split())\n",
        "\n",
        "\n",
        "# “a층의 b호에 살려면 자신의 아래(a-1)층의 1호부터 b호까지 사람들의 수의 합만큼 사람들을 데려와 살아야 한다”\n",
        "# 1층 3호 -> 0층 1 + 2 + 3 = 6\n",
        "# 2층 3호 -> 1층의 1호부터 3호 까지 사람들의 수의 합 => 1+3+6 = 10\n",
        "# 1층의 1호 -> 1 , 1층의 2호 -> 3(1+2), 1층의 3호 -> 6(1+2+3), 1층의 4호 -> 10(1+2+3+4)\n",
        "# 2층의 1호 -> 1 , 2층의 2호 -> 4(1+(1+2)), 2층의 3호 -> 10(1+(1+2)+(1+2+3)), 2층의 4호 -> 20(1+(1+2)+(1+2+3)+(1+2+3+4))\n",
        "# 3층의 1호 -> 1 , 3층의 2호 -> 5(1+1+(1+2)), 2층의 3호 -> 15(1+1+1+(1+2)+(1+2)+(1+2+3)), 3층의 4호 -> 35(1+1+1+1+(1+2)+(1+2)+(1+2)+(1+2+3)+(1+2+3)+(1+2+3+4))"
      ],
      "metadata": {
        "id": "f-kpCuzvFiUx"
      },
      "execution_count": null,
      "outputs": []
    },
    {
      "cell_type": "code",
      "source": [
        "# 3층의 1호 -> 1                                                                2층 1호 -> 1\n",
        "# 3층의 2호 -> 1*2 + (1+2)*1                                                    2층 2호 -> 1 + (1+2)\n",
        "# 3층의 3호 -> 1*3 + (1+2)*2 + (1+2+3)*1                                        2층 3호 -> 1 + (1+2) + (1+2+3)\n",
        "# 3층의 4호 -> 1*4 + (1+2)*3 + (1+2+3)*2 + (1+2+3+4)                            2층 4호 -> 1 + (1+2) + (1+2+3) + (1+2+3+4)\n",
        "k = 3 \n",
        "n = int(input())\n"
      ],
      "metadata": {
        "colab": {
          "base_uri": "https://localhost:8080/"
        },
        "id": "tMxzdm4knu4s",
        "outputId": "84f7f3f1-3e8c-4bc4-b4ff-4bdda53d33c2"
      },
      "execution_count": null,
      "outputs": [
        {
          "output_type": "stream",
          "name": "stdout",
          "text": [
            "3\n"
          ]
        }
      ]
    },
    {
      "cell_type": "code",
      "source": [
        "# 1978번 : 소수 찾기\n",
        "\n",
        "n = int(input())\n",
        "num = list(map(int,input().split()))\n",
        "res = []\n",
        "for i in range(n):\n",
        "  for j in range(2,num[i]):\n",
        "    if num[i] % j == 0 :\n",
        "      res.append(num[i])\n",
        "if 1 in num:\n",
        "  res.append(1)\n",
        "\n",
        "print(n - len(set(res)))"
      ],
      "metadata": {
        "colab": {
          "base_uri": "https://localhost:8080/"
        },
        "id": "0JgZZmfM6Ua5",
        "outputId": "146fdccd-9eec-42c8-cf4f-691349748a3d"
      },
      "execution_count": 22,
      "outputs": [
        {
          "output_type": "stream",
          "name": "stdout",
          "text": [
            "4\n",
            "1 3 5 7\n",
            "3\n"
          ]
        }
      ]
    },
    {
      "cell_type": "code",
      "source": [
        "# 1712번 : 손익분기점\n",
        "\n",
        "a,b,c = map(int,input().split())\n",
        "count = 0\n"
      ],
      "metadata": {
        "colab": {
          "base_uri": "https://localhost:8080/"
        },
        "id": "DI7LtoY2-Fkk",
        "outputId": "6415fdbe-1dba-49ee-8d37-a5de74419976"
      },
      "execution_count": 23,
      "outputs": [
        {
          "name": "stdout",
          "output_type": "stream",
          "text": [
            "0 8 6\n"
          ]
        }
      ]
    },
    {
      "cell_type": "code",
      "source": [
        "# 2292번 : 벌집\n",
        "\n",
        "# 1번 써클 : 1개 -> 1 = 1(6*0)\n",
        "# 2번 써클 : 6개 -> 2~7  = 2(6*1)\n",
        "# 3번 : 12개 -> 8 ~ 19 = 3 (6*3)\n",
        "# 4번 : 18 -> 20 ~ 37 (6*6)\n",
        "# 5번 : 24 개  -> 38 ~ 61개 (6*10)\n",
        "\n",
        "n = int(input())\n",
        "i = 0\n",
        "j = 1\n",
        "count = 0\n",
        "while (True):\n",
        "  if n-1 <= 6 * i:\n",
        "    count += 1\n",
        "    break;\n",
        "  else:\n",
        "    i += j\n",
        "    j += 1\n",
        "    count += 1\n",
        "\n",
        "print(count)\n"
      ],
      "metadata": {
        "colab": {
          "base_uri": "https://localhost:8080/"
        },
        "id": "zydzHvRgCMLy",
        "outputId": "af7d8466-f425-4931-c9a7-b9b4348cb087"
      },
      "execution_count": 37,
      "outputs": [
        {
          "output_type": "stream",
          "name": "stdout",
          "text": [
            "6\n",
            "2\n"
          ]
        }
      ]
    },
    {
      "cell_type": "code",
      "source": [
        "# 2292번 : 벌집 \n",
        "# 다른 풀이\n",
        "\n",
        "\n",
        "n = int(input())\n",
        "p = c = 1\n",
        "\n",
        "while n > c:\n",
        "    c += 6 * p\n",
        "    # c : 더해지는 수 (6의 배수)\n",
        "    p += 1\n",
        "    \n",
        "print(p)"
      ],
      "metadata": {
        "colab": {
          "base_uri": "https://localhost:8080/"
        },
        "id": "jECFf2L_FDUd",
        "outputId": "527e0438-c59b-4b5e-c3d3-e82dd774a72b"
      },
      "execution_count": 38,
      "outputs": [
        {
          "output_type": "stream",
          "name": "stdout",
          "text": [
            "45\n",
            "5\n"
          ]
        }
      ]
    },
    {
      "cell_type": "code",
      "source": [
        "# 10757번 : 큰 수 A + B\n",
        "\n",
        "import sys\n",
        "a,b = map(int, sys.stdin.readline().split())\n",
        "print(a+b)"
      ],
      "metadata": {
        "id": "wUWuIu6QFENn"
      },
      "execution_count": null,
      "outputs": []
    },
    {
      "cell_type": "code",
      "source": [
        "# 1193번 : 분수찾기\n",
        "\n",
        "# 1,3, 5, 7, 9"
      ],
      "metadata": {
        "id": "h_oTDtIxLWKu"
      },
      "execution_count": 39,
      "outputs": []
    },
    {
      "cell_type": "code",
      "source": [
        "# 2839번 : 설탕 배달\n",
        "\n",
        "n = int(input())\n",
        "res = 0\n",
        "for i in range(n):\n",
        "  for j in range(n):\n",
        "    if(n == 5 *i + 3 * j):\n",
        "      res = i+j\n",
        "      break;\n",
        "\n",
        "if res == 0:\n",
        "  print(-1)\n",
        "else:\n",
        "  print(res)"
      ],
      "metadata": {
        "colab": {
          "base_uri": "https://localhost:8080/"
        },
        "id": "1S7aApFMO7I5",
        "outputId": "1546dc13-1b3e-47a7-9d6f-2e81a15b1be1"
      },
      "execution_count": 49,
      "outputs": [
        {
          "output_type": "stream",
          "name": "stdout",
          "text": [
            "18\n",
            "4\n"
          ]
        }
      ]
    },
    {
      "cell_type": "code",
      "source": [
        ""
      ],
      "metadata": {
        "id": "IdnZXpExRAaH"
      },
      "execution_count": null,
      "outputs": []
    }
  ]
}