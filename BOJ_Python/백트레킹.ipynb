{
 "cells": [
  {
   "cell_type": "markdown",
   "id": "02314127",
   "metadata": {},
   "source": [
    "# 15649번 : N과 M(1)"
   ]
  },
  {
   "cell_type": "code",
   "execution_count": 18,
   "id": "61ded5f0",
   "metadata": {},
   "outputs": [
    {
     "name": "stdout",
     "output_type": "stream",
     "text": [
      "4 2\n",
      "1 2 \n",
      "1 3 \n",
      "1 4 \n",
      "2 1 \n",
      "2 3 \n",
      "2 4 \n",
      "3 1 \n",
      "3 2 \n",
      "3 4 \n",
      "4 1 \n",
      "4 2 \n",
      "4 3 \n"
     ]
    }
   ],
   "source": [
    "import itertools\n",
    "n, m = map(int,input().split())\n",
    "num_list = [i for i in range(1,n+1)]\n",
    "\n",
    "arr = itertools.permutations(num_list, m)\n",
    "\n",
    "for i in arr:\n",
    "    for j in i:\n",
    "        print(j, end=' ')\n",
    "    print()"
   ]
  },
  {
   "cell_type": "markdown",
   "id": "c187c9b4",
   "metadata": {},
   "source": [
    "# 15650번 : N과 M(2)"
   ]
  },
  {
   "cell_type": "code",
   "execution_count": 16,
   "id": "ced2f61c",
   "metadata": {},
   "outputs": [
    {
     "name": "stdout",
     "output_type": "stream",
     "text": [
      "4 4\n",
      "1 2 3 4 \n"
     ]
    }
   ],
   "source": [
    "import itertools\n",
    "n, m = map(int,input().split())\n",
    "num_list = [i for i in range(1,n+1)]\n",
    "\n",
    "arr = itertools.combinations(num_list, m)\n",
    "\n",
    "for i in arr:\n",
    "    for j in i:\n",
    "        print(j, end=' ')\n",
    "    print()\n",
    "    "
   ]
  },
  {
   "cell_type": "code",
   "execution_count": 6,
   "id": "190bda33",
   "metadata": {},
   "outputs": [
    {
     "data": {
      "text/plain": [
       "<itertools.permutations at 0x7fe3215f7590>"
      ]
     },
     "execution_count": 6,
     "metadata": {},
     "output_type": "execute_result"
    }
   ],
   "source": [
    "arr"
   ]
  },
  {
   "cell_type": "markdown",
   "id": "b0dc21e5",
   "metadata": {},
   "source": [
    "# 15651번 : N과 M(3)"
   ]
  },
  {
   "cell_type": "code",
   "execution_count": 24,
   "id": "0eee2932",
   "metadata": {},
   "outputs": [
    {
     "name": "stdout",
     "output_type": "stream",
     "text": [
      "4 2\n",
      "1 1 \n",
      "1 2 \n",
      "1 3 \n",
      "1 4 \n",
      "2 1 \n",
      "2 2 \n",
      "2 3 \n",
      "2 4 \n",
      "3 1 \n",
      "3 2 \n",
      "3 3 \n",
      "3 4 \n",
      "4 1 \n",
      "4 2 \n",
      "4 3 \n",
      "4 4 \n"
     ]
    }
   ],
   "source": [
    "import itertools\n",
    "n, m = map(int,input().split())\n",
    "num_list = [i for i in range(1,n+1)]\n",
    "\n",
    "arr = itertools.product(num_list, repeat=m)\n",
    "\n",
    "for i in arr:\n",
    "    for j in i:\n",
    "        print(j, end=' ')\n",
    "    print()"
   ]
  },
  {
   "cell_type": "code",
   "execution_count": null,
   "id": "792fec4c",
   "metadata": {},
   "outputs": [],
   "source": []
  }
 ],
 "metadata": {
  "kernelspec": {
   "display_name": "Python 3 (ipykernel)",
   "language": "python",
   "name": "python3"
  },
  "language_info": {
   "codemirror_mode": {
    "name": "ipython",
    "version": 3
   },
   "file_extension": ".py",
   "mimetype": "text/x-python",
   "name": "python",
   "nbconvert_exporter": "python",
   "pygments_lexer": "ipython3",
   "version": "3.9.12"
  }
 },
 "nbformat": 4,
 "nbformat_minor": 5
}
