{
  "nbformat": 4,
  "nbformat_minor": 0,
  "metadata": {
    "colab": {
      "name": "20220708.ipynb",
      "provenance": [],
      "authorship_tag": "ABX9TyNA2hFl6o6vOv3B6mX0gfWs",
      "include_colab_link": true
    },
    "kernelspec": {
      "name": "python3",
      "display_name": "Python 3"
    },
    "language_info": {
      "name": "python"
    }
  },
  "cells": [
    {
      "cell_type": "markdown",
      "metadata": {
        "id": "view-in-github",
        "colab_type": "text"
      },
      "source": [
        "<a href=\"https://colab.research.google.com/github/GYURI-PARK/baekjoon/blob/main/20220708.ipynb\" target=\"_parent\"><img src=\"https://colab.research.google.com/assets/colab-badge.svg\" alt=\"Open In Colab\"/></a>"
      ]
    },
    {
      "cell_type": "code",
      "execution_count": 13,
      "metadata": {
        "colab": {
          "base_uri": "https://localhost:8080/"
        },
        "id": "L4Anbdw6SYXm",
        "outputId": "db9dc6a5-d5b3-4cfd-d9d3-96b99ef277c2"
      },
      "outputs": [
        {
          "output_type": "stream",
          "name": "stdout",
          "text": [
            "aaaaaddfs\n",
            " ? \n"
          ]
        }
      ],
      "source": [
        "# 1157번 : 단어 공부\n",
        "# 시간초과ㅠㅠㅠㅠ\n",
        "\n",
        "s = input().upper()\n",
        "#res = []\n",
        "\n",
        "# for i in range(len(s)):\n",
        "#  res.append(s.count(s[i]))\n",
        "\n",
        "res = [0 for _ in range(len(s))]\n",
        "for i in range(0, len(s)):\n",
        "    res[i] = s.count(s[i])\n",
        "\n",
        "if (len(set(s)) >= len(set(res))):\n",
        "  print(\" ? \")\n",
        "else:\n",
        "  print(s[str(res).find(str(max(res)))])\n",
        "\n",
        "# 예외\n",
        "# aaaaaaffddggss => len(set(s)) = 5 / len(set(res)) = {1, 6}"
      ]
    },
    {
      "cell_type": "code",
      "source": [
        "# 1157번 : 단어 공부\n",
        "# 시간초과ㅠㅠㅠㅠ\n",
        "\n",
        "s = input().upper()\n",
        "\n",
        "res = [0 for _ in range(len(s))]\n",
        "for i in range(0, len(s)):\n",
        "    res[i] = s.count(s[i])\n",
        "\n",
        "if(list(set(res)).count(max(res)) > 1):\n",
        "  print(\"?\")\n",
        "else:\n",
        "  print(s[str(res).find(str(max(res)))])"
      ],
      "metadata": {
        "colab": {
          "base_uri": "https://localhost:8080/"
        },
        "id": "yw9G4SeXKzUa",
        "outputId": "62be3cf9-b8c7-422e-b19c-85483ef6e1b2"
      },
      "execution_count": 30,
      "outputs": [
        {
          "output_type": "stream",
          "name": "stdout",
          "text": [
            "dsfsdf\n",
            "S\n"
          ]
        }
      ]
    },
    {
      "cell_type": "code",
      "source": [
        "# 1157번 : 단어 공부\n",
        "# dictionary 사용하기\n",
        "\n",
        "s =  list(input().upper())\n",
        "d = {}\n",
        "for i in s:\n",
        "  d[i] = s.count(i)\n",
        "count_list = list(d.values())\n",
        "#print(max(count_list))\n",
        "\n",
        "# d = dict((value, key) for (key, value) in d.items())\n",
        "\n",
        "maxCount = 0\n",
        "for i in range(len(d)):\n",
        "  if(count_list[i] >= max(count_list)):\n",
        "    maxCount += 1\n",
        "\n",
        "if(maxCount > 1):\n",
        "  print(\"?\")\n",
        "else:\n",
        "  # print(d.get(max(count_list)))\n",
        "  ans = [k for k, v in d.items() if v == max(count_list)]\n",
        "  print(ans[0])\n"
      ],
      "metadata": {
        "colab": {
          "base_uri": "https://localhost:8080/"
        },
        "id": "YTckpF0AMLBx",
        "outputId": "ab8cbae0-1704-40ee-89e4-407b660314e3"
      },
      "execution_count": 167,
      "outputs": [
        {
          "output_type": "stream",
          "name": "stdout",
          "text": [
            "ssaadd\n",
            "?\n"
          ]
        }
      ]
    },
    {
      "cell_type": "code",
      "source": [
        "# 2750 : 수 정렬하기\n",
        "s = int(input())\n",
        "li = []\n",
        "for i in range(s):\n",
        "  li.append(int(input()))\n",
        "\n",
        "res = sorted(li)\n",
        "res\n",
        "for i in range(s):\n",
        "  print(res[i])"
      ],
      "metadata": {
        "colab": {
          "base_uri": "https://localhost:8080/"
        },
        "id": "mDVlA5E6iQJJ",
        "outputId": "8e99e337-05ee-4f0a-c465-1fbc49ba2d19"
      },
      "execution_count": 164,
      "outputs": [
        {
          "output_type": "stream",
          "name": "stdout",
          "text": [
            "3\n",
            "3\n",
            "2\n",
            "1\n",
            "1\n",
            "2\n",
            "3\n"
          ]
        }
      ]
    },
    {
      "cell_type": "code",
      "source": [
        "# 2908번 : 상수\n",
        "\n",
        "a,b = map(int,input().split())\n",
        "a1 = int(a / 100)\n",
        "a2 = int(a%10)"
      ],
      "metadata": {
        "colab": {
          "base_uri": "https://localhost:8080/"
        },
        "id": "DmoPt1udmi_P",
        "outputId": "b945ba04-a29f-4050-e3e4-fa0fa6ef976e"
      },
      "execution_count": 168,
      "outputs": [
        {
          "name": "stdout",
          "output_type": "stream",
          "text": [
            "234 654\n"
          ]
        }
      ]
    },
    {
      "cell_type": "code",
      "source": [
        ""
      ],
      "metadata": {
        "id": "4ZjH4DXTnyFi"
      },
      "execution_count": null,
      "outputs": []
    }
  ]
}