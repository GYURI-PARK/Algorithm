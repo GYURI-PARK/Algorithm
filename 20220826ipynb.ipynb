{
  "nbformat": 4,
  "nbformat_minor": 0,
  "metadata": {
    "colab": {
      "name": "20220826ipynb",
      "provenance": [],
      "authorship_tag": "ABX9TyMFtm8sSo6RcS2ioGtvYnnm",
      "include_colab_link": true
    },
    "kernelspec": {
      "name": "python3",
      "display_name": "Python 3"
    },
    "language_info": {
      "name": "python"
    }
  },
  "cells": [
    {
      "cell_type": "markdown",
      "metadata": {
        "id": "view-in-github",
        "colab_type": "text"
      },
      "source": [
        "<a href=\"https://colab.research.google.com/github/GYURI-PARK/baekjoon/blob/main/20220826ipynb.ipynb\" target=\"_parent\"><img src=\"https://colab.research.google.com/assets/colab-badge.svg\" alt=\"Open In Colab\"/></a>"
      ]
    },
    {
      "cell_type": "code",
      "execution_count": 6,
      "metadata": {
        "colab": {
          "base_uri": "https://localhost:8080/"
        },
        "id": "itrlubWCv6WK",
        "outputId": "1eb5a944-7c3a-4e13-f7ce-306f40c72fa3"
      },
      "outputs": [
        {
          "output_type": "stream",
          "name": "stdout",
          "text": [
            "3\n",
            "context.dfs\n",
            "consext.gsd\n",
            "context.gsd\n",
            "con?ext.???\n"
          ]
        }
      ],
      "source": [
        "# 1032번 : 명령 프롬프트\n",
        "n = int(input())\n",
        "sli = []\n",
        "res = ''\n",
        "for i in range(n):\n",
        "  sli.append(input())\n",
        "for i in range(len(sli[0])):\n",
        "  if sli[0][i] == sli[1][i] and sli[0][i] == sli[2][i]:\n",
        "    res += sli[0][i]\n",
        "  else :\n",
        "    res += '?'\n",
        "\n",
        "print(res)\n"
      ]
    },
    {
      "cell_type": "code",
      "source": [
        "for i in range(1, n):\n",
        "  for j in range(len(sli[0])):\n",
        "    if sli[0][j] == sli[i][j]:\n",
        "      res += sli[0][j]\n",
        "    else :\n",
        "      res += '?'"
      ],
      "metadata": {
        "colab": {
          "base_uri": "https://localhost:8080/",
          "height": 35
        },
        "id": "SPnBFtFF06KB",
        "outputId": "9d7b6ecc-5f8b-4d38-a175-d21c8e829a8c"
      },
      "execution_count": 3,
      "outputs": [
        {
          "output_type": "execute_result",
          "data": {
            "text/plain": [
              "'config????'"
            ],
            "application/vnd.google.colaboratory.intrinsic+json": {
              "type": "string"
            }
          },
          "metadata": {},
          "execution_count": 3
        }
      ]
    },
    {
      "cell_type": "code",
      "source": [
        "n = int(input())\n",
        "sli = []\n",
        "res = ''\n",
        "for i in range(n):\n",
        "  sli.append(input())\n",
        "for i in range(1, n):\n",
        "  for j in range(len(sli[0])):\n",
        "    if sli[0][j] == sli[i][j] :\n",
        "      res += sli[0][j]\n",
        "    else :\n",
        "      res += '?'\n",
        "\n",
        "print(res)"
      ],
      "metadata": {
        "colab": {
          "base_uri": "https://localhost:8080/"
        },
        "id": "4iHRkhiD4iY4",
        "outputId": "7226bcb9-ce73-45a2-953f-0fa3c4703024"
      },
      "execution_count": 7,
      "outputs": [
        {
          "output_type": "stream",
          "name": "stdout",
          "text": [
            "3\n",
            "contest.gdf\n",
            "constext.hds\n",
            "contdwf.dfe\n",
            "con????????cont???.???\n"
          ]
        }
      ]
    }
  ]
}