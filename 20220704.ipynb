{
  "nbformat": 4,
  "nbformat_minor": 0,
  "metadata": {
    "colab": {
      "name": "20220704.ipynb",
      "provenance": [],
      "authorship_tag": "ABX9TyM4kfjRSDjj3TWTF7HCFSdD",
      "include_colab_link": true
    },
    "kernelspec": {
      "name": "python3",
      "display_name": "Python 3"
    },
    "language_info": {
      "name": "python"
    }
  },
  "cells": [
    {
      "cell_type": "markdown",
      "metadata": {
        "id": "view-in-github",
        "colab_type": "text"
      },
      "source": [
        "<a href=\"https://colab.research.google.com/github/GYURI-PARK/baekjoon/blob/main/20220704.ipynb\" target=\"_parent\"><img src=\"https://colab.research.google.com/assets/colab-badge.svg\" alt=\"Open In Colab\"/></a>"
      ]
    },
    {
      "cell_type": "code",
      "execution_count": 3,
      "metadata": {
        "id": "waIQp50LuXlZ",
        "colab": {
          "base_uri": "https://localhost:8080/"
        },
        "outputId": "7a2447c5-ce7e-464b-fc7c-712aef80c61f"
      },
      "outputs": [
        {
          "output_type": "stream",
          "name": "stdout",
          "text": [
            "4 10\n",
            "<\n"
          ]
        }
      ],
      "source": [
        "a,b = input().split()\n",
        "if(int(a) > int(b)):\n",
        "    print(\">\")\n",
        "elif(int(a) < int(b)):\n",
        "    print(\"<\")\n",
        "else:\n",
        "    print(\"==\")\n"
      ]
    },
    {
      "cell_type": "code",
      "source": [
        "a,b = input().split()\n",
        "if(a > b):\n",
        "    print(\">\")\n",
        "elif(a < b):\n",
        "    print(\"<\")\n",
        "else:\n",
        "    print(\"==\")\n"
      ],
      "metadata": {
        "id": "HUrPt6KYuyGa",
        "colab": {
          "base_uri": "https://localhost:8080/"
        },
        "outputId": "0ec26915-a4f5-45ae-f002-ddcef482b1c3"
      },
      "execution_count": 6,
      "outputs": [
        {
          "output_type": "stream",
          "name": "stdout",
          "text": [
            "80 2\n",
            ">\n"
          ]
        }
      ]
    },
    {
      "cell_type": "code",
      "source": [
        "#시험 점수를 입력받아 90 ~ 100점은 A, 80 ~ 89점은 B, 70 ~ 79점은 C, 60 ~ 69점은 D, 나머지 점수는 F를 출력하는 프로그램을 작성하시오.\n",
        "\n",
        "score = input()\n",
        "if(int(score) >= 90):\n",
        "  print(\"A\")\n",
        "elif(int(score) >= 80):\n",
        "  print(\"B\")\n",
        "elif(int(score) >= 70):\n",
        "  print(\"C\")\n",
        "elif(int(score) >= 60):\n",
        "  print(\"D\")\n",
        "else:\n",
        "  print(\"E\")\n",
        "        "
      ],
      "metadata": {
        "id": "-ycQWRAgxs3O",
        "outputId": "1a1f1854-31d6-49ed-e8b8-85eeb8578762",
        "colab": {
          "base_uri": "https://localhost:8080/"
        }
      },
      "execution_count": 9,
      "outputs": [
        {
          "output_type": "stream",
          "name": "stdout",
          "text": [
            "79\n",
            "C\n"
          ]
        }
      ]
    },
    {
      "cell_type": "code",
      "source": [
        "year = input()\n",
        "opt = (int(year) % 4 == 0) and ((int(year) % 100 != 0) or (int(year) % 400 == 0)) \n",
        "if(opt):\n",
        "  print(1)\n",
        "else:\n",
        "  print(0)"
      ],
      "metadata": {
        "id": "WKYKWDHD1I9p",
        "outputId": "79df85a1-410d-424b-edca-01bc21f1869c",
        "colab": {
          "base_uri": "https://localhost:8080/"
        }
      },
      "execution_count": 16,
      "outputs": [
        {
          "output_type": "stream",
          "name": "stdout",
          "text": [
            "2019\n",
            "0\n"
          ]
        }
      ]
    },
    {
      "cell_type": "code",
      "source": [
        "x = input()\n",
        "y = input()\n",
        "if (int(x) > 0 and int(y) > 0):\n",
        "  print(1)\n",
        "elif (int(x) < 0 and int(y) > 0):\n",
        "  print(2)\n",
        "elif (int(x) < 0 and int(y) < 0):\n",
        "  print(3)\n",
        "else:\n",
        "  print(4)"
      ],
      "metadata": {
        "id": "Uqa1y0vI3oVg",
        "outputId": "f2f68218-f7d2-4937-ca59-6c3f5797a44e",
        "colab": {
          "base_uri": "https://localhost:8080/"
        }
      },
      "execution_count": 17,
      "outputs": [
        {
          "output_type": "stream",
          "name": "stdout",
          "text": [
            "50\n",
            "10\n",
            "1\n"
          ]
        }
      ]
    },
    {
      "cell_type": "code",
      "source": [
        "H,M = input().split()\n",
        "if(int(M) >= 45):\n",
        "  print(\"{0} {1}\".format(H, int(M)-45))\n",
        "elif(int(H) != 0):\n",
        "  print(\"{0} {1}\".format(int(H)-1, 60-(45-int(M))))\n",
        "elif(int(H) == 0):\n",
        "  print(\"{0} {1}\".format(23, 60-(45-int(M))))"
      ],
      "metadata": {
        "id": "9CHoQLYW5CU-",
        "outputId": "3daa76db-9afa-441f-fa11-83d9161332a1",
        "colab": {
          "base_uri": "https://localhost:8080/"
        }
      },
      "execution_count": 53,
      "outputs": [
        {
          "output_type": "stream",
          "name": "stdout",
          "text": [
            "10 25\n",
            "9 40\n"
          ]
        }
      ]
    },
    {
      "cell_type": "code",
      "source": [
        "a = input().split()\n",
        "b = input()\n",
        "if (int(a[1])+int(b) < 60):\n",
        "  print(\"{0} {1}\".format(int(a[0]),int(a[1])+int(b)))\n",
        "elif(int(a[0])+((int(a[1])+int(b))//60) < 24 and int(a[0]) != 23):\n",
        "  print(\"{0} {1}\".format(int(a[0])+((int(a[1])+int(b))//60),int(a[1])+int(b)-(60*((int(a[1])+int(b))//60))))\n",
        "else:\n",
        "  print(\"{0} {1}\".format(int(a[0])+((int(a[1])+int(b))//60)-24,int(a[1])+int(b)-(60*((int(a[1])+int(b))//60))))"
      ],
      "metadata": {
        "id": "aWLAGH4D6EJZ",
        "outputId": "9ab225a1-eec3-43db-b42a-6b3e4999c01f",
        "colab": {
          "base_uri": "https://localhost:8080/"
        }
      },
      "execution_count": 72,
      "outputs": [
        {
          "output_type": "stream",
          "name": "stdout",
          "text": [
            "23 48\n",
            "150\n",
            "2 18\n"
          ]
        }
      ]
    },
    {
      "cell_type": "code",
      "source": [
        "60*((int(a[1])+int(b))//60)"
      ],
      "metadata": {
        "id": "RZgyKSPG6GrJ",
        "outputId": "ca2a4286-5467-4755-9f91-40bf88cfa81b",
        "colab": {
          "base_uri": "https://localhost:8080/"
        }
      },
      "execution_count": 69,
      "outputs": [
        {
          "output_type": "execute_result",
          "data": {
            "text/plain": [
              "120"
            ]
          },
          "metadata": {},
          "execution_count": 69
        }
      ]
    },
    {
      "cell_type": "code",
      "source": [
        "a,b,c = input().split()\n",
        "if(int(a) == int(b) == int(c)):\n",
        "  print(10000 + 1000 * int(a))\n",
        "elif(int(a) == int(b) and int(a) != int(c)):\n",
        "  print(1000 + 100 * int(a))\n",
        "elif(int(a) == int(c) and int(a) != int(b)):\n",
        "  print(1000 + 100 * int(a))\n",
        "elif(int(b) == int(c) and int(a) != int(b)):\n",
        "  print(1000 + 100 * int(b))\n",
        "else:\n",
        "  print(100 * max(int(a),int(b),int(c)))"
      ],
      "metadata": {
        "id": "6MFzgAV5En3N",
        "outputId": "98e51a48-8482-455c-aa8d-c13586765afe",
        "colab": {
          "base_uri": "https://localhost:8080/"
        }
      },
      "execution_count": 76,
      "outputs": [
        {
          "output_type": "stream",
          "name": "stdout",
          "text": [
            "2 4 6\n",
            "600\n"
          ]
        }
      ]
    },
    {
      "cell_type": "code",
      "source": [
        "N = int(input())\n",
        "for i in range(1,10):\n",
        "  print(N,\"*\",i,\"=\",i * N)\n"
      ],
      "metadata": {
        "id": "Gf7g93bDG78E",
        "outputId": "c2298fcb-1ba5-4e9f-a7cf-ab5a9362fad3",
        "colab": {
          "base_uri": "https://localhost:8080/"
        }
      },
      "execution_count": 5,
      "outputs": [
        {
          "output_type": "stream",
          "name": "stdout",
          "text": [
            "3\n",
            "3 * 1 = 3\n",
            "3 * 2 = 6\n",
            "3 * 3 = 9\n",
            "3 * 4 = 12\n",
            "3 * 5 = 15\n",
            "3 * 6 = 18\n",
            "3 * 7 = 21\n",
            "3 * 8 = 24\n",
            "3 * 9 = 27\n"
          ]
        }
      ]
    },
    {
      "cell_type": "code",
      "source": [
        "type(N)"
      ],
      "metadata": {
        "id": "PnIo1BROIpwM",
        "outputId": "1293c4bc-2640-4ab3-b675-9bc90efdd67d",
        "colab": {
          "base_uri": "https://localhost:8080/"
        }
      },
      "execution_count": 78,
      "outputs": [
        {
          "output_type": "execute_result",
          "data": {
            "text/plain": [
              "int"
            ]
          },
          "metadata": {},
          "execution_count": 78
        }
      ]
    },
    {
      "cell_type": "code",
      "source": [
        ""
      ],
      "metadata": {
        "id": "TwNNItldIrWj"
      },
      "execution_count": null,
      "outputs": []
    }
  ]
}