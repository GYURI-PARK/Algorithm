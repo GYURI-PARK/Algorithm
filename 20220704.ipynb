{
  "nbformat": 4,
  "nbformat_minor": 0,
  "metadata": {
    "colab": {
      "name": "20220704.ipynb",
      "provenance": [],
      "collapsed_sections": [],
      "authorship_tag": "ABX9TyM5L52Rh0E9uiGHXsOzaz+L",
      "include_colab_link": true
    },
    "kernelspec": {
      "name": "python3",
      "display_name": "Python 3"
    },
    "language_info": {
      "name": "python"
    }
  },
  "cells": [
    {
      "cell_type": "markdown",
      "metadata": {
        "id": "view-in-github",
        "colab_type": "text"
      },
      "source": [
        "<a href=\"https://colab.research.google.com/github/GYURI-PARK/baekjoon/blob/main/20220704.ipynb\" target=\"_parent\"><img src=\"https://colab.research.google.com/assets/colab-badge.svg\" alt=\"Open In Colab\"/></a>"
      ]
    },
    {
      "cell_type": "code",
      "execution_count": 3,
      "metadata": {
        "id": "waIQp50LuXlZ",
        "colab": {
          "base_uri": "https://localhost:8080/"
        },
        "outputId": "7a2447c5-ce7e-464b-fc7c-712aef80c61f"
      },
      "outputs": [
        {
          "output_type": "stream",
          "name": "stdout",
          "text": [
            "4 10\n",
            "<\n"
          ]
        }
      ],
      "source": [
        "a,b = input().split()\n",
        "if(int(a) > int(b)):\n",
        "    print(\">\")\n",
        "elif(int(a) < int(b)):\n",
        "    print(\"<\")\n",
        "else:\n",
        "    print(\"==\")\n"
      ]
    },
    {
      "cell_type": "code",
      "source": [
        "a,b = input().split()\n",
        "if(a > b):\n",
        "    print(\">\")\n",
        "elif(a < b):\n",
        "    print(\"<\")\n",
        "else:\n",
        "    print(\"==\")\n"
      ],
      "metadata": {
        "id": "HUrPt6KYuyGa",
        "colab": {
          "base_uri": "https://localhost:8080/"
        },
        "outputId": "0ec26915-a4f5-45ae-f002-ddcef482b1c3"
      },
      "execution_count": 6,
      "outputs": [
        {
          "output_type": "stream",
          "name": "stdout",
          "text": [
            "80 2\n",
            ">\n"
          ]
        }
      ]
    },
    {
      "cell_type": "code",
      "source": [
        "#시험 점수를 입력받아 90 ~ 100점은 A, 80 ~ 89점은 B, 70 ~ 79점은 C, 60 ~ 69점은 D, 나머지 점수는 F를 출력하는 프로그램을 작성하시오.\n",
        "\n",
        "score = input()\n",
        "if(int(score) >= 90):\n",
        "  print(\"A\")\n",
        "elif(int(score) >= 80):\n",
        "  print(\"B\")\n",
        "elif(int(score) >= 70):\n",
        "  print(\"C\")\n",
        "elif(int(score) >= 60):\n",
        "  print(\"D\")\n",
        "else:\n",
        "  print(\"E\")\n",
        "        "
      ],
      "metadata": {
        "colab": {
          "base_uri": "https://localhost:8080/"
        },
        "id": "-ycQWRAgxs3O",
        "outputId": "1a1f1854-31d6-49ed-e8b8-85eeb8578762"
      },
      "execution_count": 9,
      "outputs": [
        {
          "output_type": "stream",
          "name": "stdout",
          "text": [
            "79\n",
            "C\n"
          ]
        }
      ]
    },
    {
      "cell_type": "code",
      "source": [
        "year = input()\n",
        "opt = (int(year) % 4 == 0) and ((int(year) % 100 != 0) or (int(year) % 400 == 0)) \n",
        "if(opt):\n",
        "  print(1)\n",
        "else:\n",
        "  print(0)"
      ],
      "metadata": {
        "colab": {
          "base_uri": "https://localhost:8080/"
        },
        "id": "WKYKWDHD1I9p",
        "outputId": "79df85a1-410d-424b-edca-01bc21f1869c"
      },
      "execution_count": 16,
      "outputs": [
        {
          "output_type": "stream",
          "name": "stdout",
          "text": [
            "2019\n",
            "0\n"
          ]
        }
      ]
    },
    {
      "cell_type": "code",
      "source": [
        "x = input()\n",
        "y = input()\n",
        "if (int(x) > 0 and int(y) > 0):\n",
        "  print(1)\n",
        "elif (int(x) < 0 and int(y) > 0):\n",
        "  print(2)\n",
        "elif (int(x) < 0 and int(y) < 0):\n",
        "  print(3)\n",
        "else:\n",
        "  print(4)"
      ],
      "metadata": {
        "colab": {
          "base_uri": "https://localhost:8080/"
        },
        "id": "Uqa1y0vI3oVg",
        "outputId": "f2f68218-f7d2-4937-ca59-6c3f5797a44e"
      },
      "execution_count": 17,
      "outputs": [
        {
          "output_type": "stream",
          "name": "stdout",
          "text": [
            "50\n",
            "10\n",
            "1\n"
          ]
        }
      ]
    },
    {
      "cell_type": "code",
      "source": [
        "H,M = input().split()\n",
        "if(int(M) >= 45):\n",
        "  print(\"{0} {1}\".format(H, int(M)-45))\n",
        "elif(int(H) != 0):\n",
        "  print(\"{0} {1}\".format(int(H)-1, 60-(45-int(M))))\n",
        "elif(int(H) == 0):\n",
        "  print(\"{0} {1}\".format(23, 60-(45-int(M))))"
      ],
      "metadata": {
        "colab": {
          "base_uri": "https://localhost:8080/"
        },
        "id": "9CHoQLYW5CU-",
        "outputId": "3daa76db-9afa-441f-fa11-83d9161332a1"
      },
      "execution_count": 53,
      "outputs": [
        {
          "output_type": "stream",
          "name": "stdout",
          "text": [
            "10 25\n",
            "9 40\n"
          ]
        }
      ]
    },
    {
      "cell_type": "code",
      "source": [
        "a = input().split()\n",
        "b = input()\n",
        "if (int(a[1])+int(b) < 60):\n",
        "  print(\"{0} {1}\".format(int(a[0]),int(a[1])+int(b)))\n",
        "elif(int(a[0])+((int(a[1])+int(b))//60) < 24 and int(a[0]) != 23):\n",
        "  print(\"{0} {1}\".format(int(a[0])+((int(a[1])+int(b))//60),int(a[1])+int(b)-(60*((int(a[1])+int(b))//60))))\n",
        "else:\n",
        "  print(\"{0} {1}\".format(int(a[0])+((int(a[1])+int(b))//60)-24,int(a[1])+int(b)-(60*((int(a[1])+int(b))//60))))"
      ],
      "metadata": {
        "colab": {
          "base_uri": "https://localhost:8080/"
        },
        "id": "aWLAGH4D6EJZ",
        "outputId": "9ab225a1-eec3-43db-b42a-6b3e4999c01f"
      },
      "execution_count": 72,
      "outputs": [
        {
          "output_type": "stream",
          "name": "stdout",
          "text": [
            "23 48\n",
            "150\n",
            "2 18\n"
          ]
        }
      ]
    },
    {
      "cell_type": "code",
      "source": [
        "a,b,c = input().split()\n",
        "if(int(a) == int(b) == int(c)):\n",
        "  print(10000 + 1000 * int(a))\n",
        "elif(int(a) == int(b) and int(a) != int(c)):\n",
        "  print(1000 + 100 * int(a))\n",
        "elif(int(a) == int(c) and int(a) != int(b)):\n",
        "  print(1000 + 100 * int(a))\n",
        "elif(int(b) == int(c) and int(a) != int(b)):\n",
        "  print(1000 + 100 * int(b))\n",
        "else:\n",
        "  print(100 * max(int(a),int(b),int(c)))"
      ],
      "metadata": {
        "colab": {
          "base_uri": "https://localhost:8080/"
        },
        "id": "6MFzgAV5En3N",
        "outputId": "98e51a48-8482-455c-aa8d-c13586765afe"
      },
      "execution_count": 76,
      "outputs": [
        {
          "output_type": "stream",
          "name": "stdout",
          "text": [
            "2 4 6\n",
            "600\n"
          ]
        }
      ]
    },
    {
      "cell_type": "code",
      "source": [
        "# 2739\n",
        "N = int(input())\n",
        "for i in range(1,10):\n",
        "  print(N,\"*\",i,\"=\",i * N)\n"
      ],
      "metadata": {
        "colab": {
          "base_uri": "https://localhost:8080/"
        },
        "id": "Gf7g93bDG78E",
        "outputId": "c2298fcb-1ba5-4e9f-a7cf-ab5a9362fad3"
      },
      "execution_count": 5,
      "outputs": [
        {
          "output_type": "stream",
          "name": "stdout",
          "text": [
            "3\n",
            "3 * 1 = 3\n",
            "3 * 2 = 6\n",
            "3 * 3 = 9\n",
            "3 * 4 = 12\n",
            "3 * 5 = 15\n",
            "3 * 6 = 18\n",
            "3 * 7 = 21\n",
            "3 * 8 = 24\n",
            "3 * 9 = 27\n"
          ]
        }
      ]
    },
    {
      "cell_type": "code",
      "source": [
        "#10950\n",
        "n = int(input())\n",
        "for i in range(n):\n",
        "  a,b = input().split()\n",
        "  print(int(a) + int(b))"
      ],
      "metadata": {
        "colab": {
          "base_uri": "https://localhost:8080/"
        },
        "id": "TwNNItldIrWj",
        "outputId": "ef4db9c7-a111-4383-835d-784955e32f31"
      },
      "execution_count": 12,
      "outputs": [
        {
          "output_type": "stream",
          "name": "stdout",
          "text": [
            "3\n",
            "2 3\n",
            "5\n",
            "5 3\n",
            "8\n",
            "2 3\n",
            "5\n"
          ]
        }
      ]
    },
    {
      "cell_type": "code",
      "source": [
        "# 8393\n",
        "n = int(input())\n",
        "sum = 0\n",
        "for i in range(n+1):\n",
        "  sum += i;\n",
        "print(sum)"
      ],
      "metadata": {
        "colab": {
          "base_uri": "https://localhost:8080/"
        },
        "id": "Rt9z9AREcR6j",
        "outputId": "9065f717-b2c6-47ca-b00a-9af7b50cbb0b"
      },
      "execution_count": 15,
      "outputs": [
        {
          "output_type": "stream",
          "name": "stdout",
          "text": [
            "10\n",
            "55\n"
          ]
        }
      ]
    },
    {
      "cell_type": "code",
      "source": [
        "# 15552 sys.stdin.readline() 코랩에서 작동 안됨\n",
        "import sys\n",
        "n = int(input())\n",
        "for i in range(n):\n",
        "  a,b = map(int,sys.stdin.readline().split())\n",
        "  print(int(a) + int(b))\n"
      ],
      "metadata": {
        "colab": {
          "base_uri": "https://localhost:8080/",
          "height": 236
        },
        "id": "GiLfqNvbdUpF",
        "outputId": "8976cfda-bbe3-4783-a61a-2829d57f7a3f"
      },
      "execution_count": 17,
      "outputs": [
        {
          "name": "stdout",
          "output_type": "stream",
          "text": [
            "3\n"
          ]
        },
        {
          "output_type": "error",
          "ename": "ValueError",
          "evalue": "ignored",
          "traceback": [
            "\u001b[0;31m---------------------------------------------------------------------------\u001b[0m",
            "\u001b[0;31mValueError\u001b[0m                                Traceback (most recent call last)",
            "\u001b[0;32m<ipython-input-17-055a48c74680>\u001b[0m in \u001b[0;36m<module>\u001b[0;34m()\u001b[0m\n\u001b[1;32m      3\u001b[0m \u001b[0mn\u001b[0m \u001b[0;34m=\u001b[0m \u001b[0mint\u001b[0m\u001b[0;34m(\u001b[0m\u001b[0minput\u001b[0m\u001b[0;34m(\u001b[0m\u001b[0;34m)\u001b[0m\u001b[0;34m)\u001b[0m\u001b[0;34m\u001b[0m\u001b[0;34m\u001b[0m\u001b[0m\n\u001b[1;32m      4\u001b[0m \u001b[0;32mfor\u001b[0m \u001b[0mi\u001b[0m \u001b[0;32min\u001b[0m \u001b[0mrange\u001b[0m\u001b[0;34m(\u001b[0m\u001b[0mn\u001b[0m\u001b[0;34m)\u001b[0m\u001b[0;34m:\u001b[0m\u001b[0;34m\u001b[0m\u001b[0;34m\u001b[0m\u001b[0m\n\u001b[0;32m----> 5\u001b[0;31m   \u001b[0ma\u001b[0m\u001b[0;34m,\u001b[0m\u001b[0mb\u001b[0m \u001b[0;34m=\u001b[0m \u001b[0mmap\u001b[0m\u001b[0;34m(\u001b[0m\u001b[0mint\u001b[0m\u001b[0;34m,\u001b[0m\u001b[0msys\u001b[0m\u001b[0;34m.\u001b[0m\u001b[0mstdin\u001b[0m\u001b[0;34m.\u001b[0m\u001b[0mreadline\u001b[0m\u001b[0;34m(\u001b[0m\u001b[0;34m)\u001b[0m\u001b[0;34m.\u001b[0m\u001b[0msplit\u001b[0m\u001b[0;34m(\u001b[0m\u001b[0;34m)\u001b[0m\u001b[0;34m)\u001b[0m\u001b[0;34m\u001b[0m\u001b[0;34m\u001b[0m\u001b[0m\n\u001b[0m\u001b[1;32m      6\u001b[0m   \u001b[0mprint\u001b[0m\u001b[0;34m(\u001b[0m\u001b[0mint\u001b[0m\u001b[0;34m(\u001b[0m\u001b[0ma\u001b[0m\u001b[0;34m)\u001b[0m \u001b[0;34m+\u001b[0m \u001b[0mint\u001b[0m\u001b[0;34m(\u001b[0m\u001b[0mb\u001b[0m\u001b[0;34m)\u001b[0m\u001b[0;34m)\u001b[0m\u001b[0;34m\u001b[0m\u001b[0;34m\u001b[0m\u001b[0m\n",
            "\u001b[0;31mValueError\u001b[0m: not enough values to unpack (expected 2, got 0)"
          ]
        }
      ]
    },
    {
      "cell_type": "code",
      "source": [
        "a = map(int,sys.stdin.readline().split())"
      ],
      "metadata": {
        "id": "kpTOPHkCiT4K"
      },
      "execution_count": 19,
      "outputs": []
    },
    {
      "cell_type": "code",
      "source": [
        "# 2741\n",
        "n = int(input())\n",
        "for i in reversed(range(1,n+1)):\n",
        "  print(i)"
      ],
      "metadata": {
        "colab": {
          "base_uri": "https://localhost:8080/"
        },
        "id": "xtwY_O2WimuH",
        "outputId": "55e3e058-53c2-4158-a715-bae011aea1eb"
      },
      "execution_count": 28,
      "outputs": [
        {
          "output_type": "stream",
          "name": "stdout",
          "text": [
            "5\n",
            "5\n",
            "4\n",
            "3\n",
            "2\n",
            "1\n"
          ]
        }
      ]
    },
    {
      "cell_type": "code",
      "source": [
        "# 11021\n",
        "n = int(input())\n",
        "for i in range(n):\n",
        "  a,b = input().split()\n",
        "  print(\"Case #{0}: {1}\".format(i+1,int(a) + int(b) ))\n",
        "\n",
        "import sys\n",
        "n = int(input())\n",
        "for i in range(n):\n",
        "  a,b = input().split()\n",
        "  print(\"Case #{0}: {1}\".format(i+1,int(a) + int(b)))"
      ],
      "metadata": {
        "colab": {
          "base_uri": "https://localhost:8080/"
        },
        "id": "ua_91zhbjp4p",
        "outputId": "c3dec668-ab2a-40a7-de94-72ab90524527"
      },
      "execution_count": 29,
      "outputs": [
        {
          "output_type": "stream",
          "name": "stdout",
          "text": [
            "3\n",
            "1 4\n",
            "Case # 0 : 5\n",
            "2 5\n",
            "Case # 1 : 7\n",
            "3 2\n",
            "Case # 2 : 5\n"
          ]
        }
      ]
    },
    {
      "cell_type": "code",
      "source": [
        "n = int(input())\n",
        "for i in range(n):\n",
        "  a,b = input().split()\n",
        "  print(\"Case #{0}: {1}\".format(i+1,int(a) + int(b) ))"
      ],
      "metadata": {
        "colab": {
          "base_uri": "https://localhost:8080/"
        },
        "id": "FDfa4PLGrCxs",
        "outputId": "7d57d0ae-9f39-4612-d4af-3d107beca42b"
      },
      "execution_count": 34,
      "outputs": [
        {
          "output_type": "stream",
          "name": "stdout",
          "text": [
            "3\n",
            "1 20\n",
            "Case #1: 21\n",
            "23 2\n",
            "Case #2: 25\n",
            " 5 2\n",
            "Case #3: 7\n"
          ]
        }
      ]
    },
    {
      "cell_type": "code",
      "source": [
        "#11022\n",
        "n = int(input())\n",
        "for i in range(n):\n",
        "  a,b = input().split()\n",
        "  print(\"Case #{0}: {1} + {2} = {3}\".format(i+1,int(a),int(b),int(a) + int(b)))"
      ],
      "metadata": {
        "colab": {
          "base_uri": "https://localhost:8080/"
        },
        "id": "6B5ndVkrrV6H",
        "outputId": "f744d376-55da-493f-89fe-e960ae2c17a7"
      },
      "execution_count": 37,
      "outputs": [
        {
          "output_type": "stream",
          "name": "stdout",
          "text": [
            "2\n",
            "1 2\n",
            "Case #1: 1 + 2 = 3\n",
            "2 4\n",
            "Case #2: 2 + 4 = 6\n"
          ]
        }
      ]
    },
    {
      "cell_type": "code",
      "source": [
        "#2438\n",
        "n = int(input())\n",
        "for i in range(n):\n",
        "  print(\"*\" * (i+1))"
      ],
      "metadata": {
        "colab": {
          "base_uri": "https://localhost:8080/"
        },
        "id": "xxp7WEPQvqkF",
        "outputId": "d598e410-bdad-4df0-b832-27a95bb165c2"
      },
      "execution_count": 40,
      "outputs": [
        {
          "output_type": "stream",
          "name": "stdout",
          "text": [
            "3\n",
            "*\n",
            "**\n",
            "***\n"
          ]
        }
      ]
    },
    {
      "cell_type": "code",
      "source": [
        "# 2439\n",
        "n = int(input())\n",
        "for i in range(n):\n",
        "  print(\" \" * (n - i),\"*\"*(i+1))"
      ],
      "metadata": {
        "colab": {
          "base_uri": "https://localhost:8080/"
        },
        "id": "mSNGFSDr_sn3",
        "outputId": "f873ca9f-e3f1-491e-8ee4-6665225771c6"
      },
      "execution_count": 53,
      "outputs": [
        {
          "output_type": "stream",
          "name": "stdout",
          "text": [
            "5\n",
            "      *\n",
            "     **\n",
            "    ***\n",
            "   ****\n",
            "  *****\n"
          ]
        }
      ]
    },
    {
      "cell_type": "code",
      "source": [
        "# 2439\n",
        "n = int(input())\n",
        "for i in range(n):\n",
        "  print(\" \" * (n - i - 1)+\"*\"*(i+1))"
      ],
      "metadata": {
        "colab": {
          "base_uri": "https://localhost:8080/"
        },
        "id": "GMit4n5YBHPd",
        "outputId": "55031b4e-1d99-44fe-f725-447cbf780e67"
      },
      "execution_count": 52,
      "outputs": [
        {
          "output_type": "stream",
          "name": "stdout",
          "text": [
            "5\n",
            "    *\n",
            "   **\n",
            "  ***\n",
            " ****\n",
            "*****\n"
          ]
        }
      ]
    },
    {
      "cell_type": "code",
      "source": [
        "\n"
      ],
      "metadata": {
        "id": "cZ_iwg-ZCwc5"
      },
      "execution_count": null,
      "outputs": []
    },
    {
      "cell_type": "code",
      "source": [
        ""
      ],
      "metadata": {
        "id": "W8k-5aTwHltz"
      },
      "execution_count": null,
      "outputs": []
    }
  ]
}