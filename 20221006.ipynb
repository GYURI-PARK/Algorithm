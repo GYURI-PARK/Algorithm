{
 "cells": [
  {
   "cell_type": "code",
   "execution_count": null,
   "id": "644e5b26",
   "metadata": {},
   "outputs": [],
   "source": [
    "# 2075번 : N번째 큰 수\n",
    "\n",
    "from heapq import heappop, heappush\n",
    "\n",
    "n = int(input())\n",
    "heap = []\n",
    "\n",
    "for i in range(n):\n",
    "    num = int(input())\n",
    "    if num != 0:\n",
    "        heappush(heap,(-num, num))\n",
    "        \n",
    "    else:\n",
    "        try:\n",
    "            print(heappop(heap)[1])\n",
    "        except:\n",
    "            print(0)"
   ]
  },
  {
   "cell_type": "code",
   "execution_count": 4,
   "id": "1318f9da",
   "metadata": {},
   "outputs": [
    {
     "name": "stdout",
     "output_type": "stream",
     "text": [
      "3\n",
      "434 5 3\n",
      "45 6 6\n",
      "34 43 23\n",
      "43\n"
     ]
    }
   ],
   "source": [
    "# 메모리 초과\n",
    "\n",
    "from heapq import heappop, heappush\n",
    "\n",
    "n = int(input())\n",
    "heap = []\n",
    "\n",
    "for i in range(n):\n",
    "    li = input().split()\n",
    "    for j in li:\n",
    "        heappush(heap, (-int(j), int(j)))\n",
    "        \n",
    "res = []\n",
    "for i in range(n):\n",
    "    res.append(heappop(heap)[1])\n",
    "print(min(res))\n",
    "    "
   ]
  },
  {
   "cell_type": "code",
   "execution_count": 12,
   "id": "b938634c",
   "metadata": {},
   "outputs": [
    {
     "name": "stdout",
     "output_type": "stream",
     "text": [
      "3\n",
      "2 3 4\n",
      "6 7 8\n",
      "4 5 6\n",
      "4\n"
     ]
    }
   ],
   "source": [
    "\n",
    "from heapq import heappop, heappush\n",
    "\n",
    "n = int(input())\n",
    "\n",
    "res = []\n",
    "\n",
    "for i in range(n):\n",
    "    li = input().split()\n",
    "    heap = []\n",
    "    for j in li:\n",
    "        heappush(heap, (-int(j), int(j)))\n",
    "    heappush(res, heappop(heap)[1])\n",
    "print(min(res))\n",
    "    "
   ]
  },
  {
   "cell_type": "code",
   "execution_count": 11,
   "id": "819e76b0",
   "metadata": {},
   "outputs": [
    {
     "data": {
      "text/plain": [
       "[34, 656, 54]"
      ]
     },
     "execution_count": 11,
     "metadata": {},
     "output_type": "execute_result"
    }
   ],
   "source": [
    "import heapq\n",
    "\n",
    "n=int(input())\n",
    "graph=[]\n",
    "for i in range(n):\n",
    "    graph.append(list(map(int, input().split())))\n",
    "\n",
    "heap=[]\n",
    "heapq.heapify(heap)\n",
    "for i in range(n):\n",
    "    for j in range(n):\n",
    "        heapq.heappush(heap,graph[i][j])\n",
    "        if len(heap)>n:\n",
    "            heapq.heappop(heap)\n",
    "\n",
    "print(heapq.heappop(heap))"
   ]
  },
  {
   "cell_type": "code",
   "execution_count": null,
   "id": "1b66dfe8",
   "metadata": {},
   "outputs": [],
   "source": []
  }
 ],
 "metadata": {
  "kernelspec": {
   "display_name": "Python 3 (ipykernel)",
   "language": "python",
   "name": "python3"
  },
  "language_info": {
   "codemirror_mode": {
    "name": "ipython",
    "version": 3
   },
   "file_extension": ".py",
   "mimetype": "text/x-python",
   "name": "python",
   "nbconvert_exporter": "python",
   "pygments_lexer": "ipython3",
   "version": "3.9.12"
  }
 },
 "nbformat": 4,
 "nbformat_minor": 5
}
