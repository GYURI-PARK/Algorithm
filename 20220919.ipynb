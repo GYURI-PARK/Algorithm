{
  "nbformat": 4,
  "nbformat_minor": 0,
  "metadata": {
    "colab": {
      "provenance": [],
      "authorship_tag": "ABX9TyMxQfDkWBw7NBKa92rExxBD",
      "include_colab_link": true
    },
    "kernelspec": {
      "name": "python3",
      "display_name": "Python 3"
    },
    "language_info": {
      "name": "python"
    }
  },
  "cells": [
    {
      "cell_type": "markdown",
      "metadata": {
        "id": "view-in-github",
        "colab_type": "text"
      },
      "source": [
        "<a href=\"https://colab.research.google.com/github/GYURI-PARK/baekjoon/blob/main/20220919.ipynb\" target=\"_parent\"><img src=\"https://colab.research.google.com/assets/colab-badge.svg\" alt=\"Open In Colab\"/></a>"
      ]
    },
    {
      "cell_type": "code",
      "execution_count": 28,
      "metadata": {
        "colab": {
          "base_uri": "https://localhost:8080/"
        },
        "id": "Fp4gwkrUWb6O",
        "outputId": "1401f32d-ff0b-45e2-f07f-247937612acb"
      },
      "outputs": [
        {
          "output_type": "stream",
          "name": "stdout",
          "text": [
            "4 11\n",
            "802\n",
            "457\n",
            "743\n",
            "539\n",
            "200\n"
          ]
        }
      ],
      "source": [
        "# 1654번 : 랜선 자르기\n",
        "# 반복문 + 함수 별도로 구현\n",
        "\n",
        "n,k = map(int, input().split())\n",
        "li = []\n",
        "for i in range(n):\n",
        "  li.append(int(input()))\n",
        "li = sorted(li)\n",
        "\n",
        "def binary(k, arr, cnt):\n",
        "  start = 1\n",
        "  end = max(arr)\n",
        "\n",
        "  while start <= end :\n",
        "    cnt = 0\n",
        "    mid = (start + end) // 2\n",
        "    for i in arr:\n",
        "      cnt += (i // mid)\n",
        "    \n",
        "    if cnt >= k:\n",
        "      start = mid + 1\n",
        "    \n",
        "    else:\n",
        "      end = mid - 1\n",
        "\n",
        "  return end\n",
        "\n",
        "print(binary(k, li, 0))"
      ]
    },
    {
      "cell_type": "code",
      "source": [
        "n,k = map(int, input().split())\n",
        "li = []\n",
        "for i in range(n):\n",
        "  li.append(int(input()))\n",
        "li = sorted(li)\n",
        "\n",
        "start = 1\n",
        "end = max(li)\n",
        "\n",
        "while start <= end: \n",
        "    mid = (start + end) // 2 \n",
        "    cnt = 0 \n",
        "    for i in li:\n",
        "        cnt += i // mid \n",
        "        \n",
        "    if cnt >= k: \n",
        "        start = mid + 1\n",
        "    else:\n",
        "        end = mid - 1\n",
        "print(end)\n"
      ],
      "metadata": {
        "colab": {
          "base_uri": "https://localhost:8080/"
        },
        "id": "rQDvFV9JYNMX",
        "outputId": "10e70b49-dc0d-4055-8ec9-351746a2067c"
      },
      "execution_count": 29,
      "outputs": [
        {
          "output_type": "stream",
          "name": "stdout",
          "text": [
            "4 11\n",
            "802\n",
            "743\n",
            "457\n",
            "539\n",
            "200\n"
          ]
        }
      ]
    },
    {
      "cell_type": "code",
      "source": [],
      "metadata": {
        "id": "1v8RWN_vaRCk"
      },
      "execution_count": null,
      "outputs": []
    }
  ]
}