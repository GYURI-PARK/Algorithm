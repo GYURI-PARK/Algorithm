{
  "nbformat": 4,
  "nbformat_minor": 0,
  "metadata": {
    "colab": {
      "provenance": [],
      "authorship_tag": "ABX9TyOQLtP/TOxlmSXHahUW/OTd",
      "include_colab_link": true
    },
    "kernelspec": {
      "name": "python3",
      "display_name": "Python 3"
    },
    "language_info": {
      "name": "python"
    }
  },
  "cells": [
    {
      "cell_type": "markdown",
      "metadata": {
        "id": "view-in-github",
        "colab_type": "text"
      },
      "source": [
        "<a href=\"https://colab.research.google.com/github/GYURI-PARK/baekjoon/blob/main/20220922.ipynb\" target=\"_parent\"><img src=\"https://colab.research.google.com/assets/colab-badge.svg\" alt=\"Open In Colab\"/></a>"
      ]
    },
    {
      "cell_type": "markdown",
      "source": [
        "스택"
      ],
      "metadata": {
        "id": "mKllM1w767gK"
      }
    },
    {
      "cell_type": "code",
      "execution_count": 37,
      "metadata": {
        "colab": {
          "base_uri": "https://localhost:8080/"
        },
        "id": "MYrEMAXU65zk",
        "outputId": "0717c162-36b0-4871-c1ab-87acd45d2304"
      },
      "outputs": [
        {
          "output_type": "stream",
          "name": "stdout",
          "text": [
            "8\n",
            "4\n",
            "3\n",
            "6\n",
            "8\n",
            "7\n",
            "5\n",
            "2\n",
            "1\n",
            "NO\n"
          ]
        }
      ],
      "source": [
        "# 1874번 : 스택 수열\n",
        "\n",
        "n = int(input())\n",
        "li = []\n",
        "for i in range(n):\n",
        "  li.append(int(input()))\n",
        "\n",
        "add = 1\n",
        "res = []\n",
        "res_print = [] # 부호 추가 리스트\n",
        "\n",
        "\n",
        "for i in li:\n",
        "  if i in res:\n",
        "    if res.pop() != i :\n",
        "      res_print.append('NO')\n",
        "      break;\n",
        "    else:\n",
        "      res_print.append('-')\n",
        "    \n",
        "\n",
        "  else:\n",
        "    if add > i:\n",
        "      res_print.append('NO')\n",
        "      break;\n",
        "\n",
        "    else:\n",
        "      while (add <= i):\n",
        "        res.append(add)\n",
        "        res_print.append('+')\n",
        "        add += 1\n",
        "    res_print.append('-')\n",
        "\n",
        "\n",
        "\n",
        "if 'NO' in res_print:\n",
        "    print('NO')\n",
        "\n",
        "else:\n",
        "  for i in res_print:\n",
        "    print(i)\n"
      ]
    },
    {
      "cell_type": "code",
      "source": [
        "8\n",
        "4\n",
        "3\n",
        "6\n",
        "8\n",
        "7\n",
        "5\n",
        "2\n",
        "1"
      ],
      "metadata": {
        "id": "zcDNGgZ8Ggfv"
      },
      "execution_count": null,
      "outputs": []
    },
    {
      "cell_type": "code",
      "source": [
        "# pop() 되는 숫자와 비교해서 다시"
      ],
      "metadata": {
        "colab": {
          "base_uri": "https://localhost:8080/"
        },
        "id": "MZsZyOXL-i01",
        "outputId": "d5fd24bb-723b-4d93-a9e0-0d6b76561304"
      },
      "execution_count": 39,
      "outputs": [
        {
          "output_type": "execute_result",
          "data": {
            "text/plain": [
              "['+', '+', '+', '+', '-', 'NO']"
            ]
          },
          "metadata": {},
          "execution_count": 39
        }
      ]
    },
    {
      "cell_type": "code",
      "source": [
        "3 in res"
      ],
      "metadata": {
        "colab": {
          "base_uri": "https://localhost:8080/"
        },
        "id": "B3YZmJ3Z_3mz",
        "outputId": "5fc7272f-53f7-4842-993e-b5276db447f7"
      },
      "execution_count": null,
      "outputs": [
        {
          "output_type": "execute_result",
          "data": {
            "text/plain": [
              "True"
            ]
          },
          "metadata": {},
          "execution_count": 10
        }
      ]
    },
    {
      "cell_type": "code",
      "source": [],
      "metadata": {
        "id": "aMESgzq3AW48"
      },
      "execution_count": null,
      "outputs": []
    }
  ]
}