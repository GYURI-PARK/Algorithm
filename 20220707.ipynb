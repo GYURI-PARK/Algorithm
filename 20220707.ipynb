{
  "nbformat": 4,
  "nbformat_minor": 0,
  "metadata": {
    "colab": {
      "name": "20220707.ipynb",
      "provenance": [],
      "authorship_tag": "ABX9TyM6pQ0k0sk+uQ/14PfKmYJg",
      "include_colab_link": true
    },
    "kernelspec": {
      "name": "python3",
      "display_name": "Python 3"
    },
    "language_info": {
      "name": "python"
    }
  },
  "cells": [
    {
      "cell_type": "markdown",
      "metadata": {
        "id": "view-in-github",
        "colab_type": "text"
      },
      "source": [
        "<a href=\"https://colab.research.google.com/github/GYURI-PARK/baekjoon/blob/main/20220707.ipynb\" target=\"_parent\"><img src=\"https://colab.research.google.com/assets/colab-badge.svg\" alt=\"Open In Colab\"/></a>"
      ]
    },
    {
      "cell_type": "code",
      "execution_count": 82,
      "metadata": {
        "colab": {
          "base_uri": "https://localhost:8080/"
        },
        "id": "DzjA5Hws6MQe",
        "outputId": "9f3f13cc-3de9-41c1-b087-aae672e07e81"
      },
      "outputs": [
        {
          "output_type": "stream",
          "name": "stdout",
          "text": [
            "baekjoon\n",
            "1 0 -1 -1 2 -1 -1 -1 -1 4 3 -1 -1 7 5 -1 -1 -1 -1 -1 -1 -1 -1 -1 -1 -1\n"
          ]
        }
      ],
      "source": [
        "# 10809번 : 알파벳 찾기\n",
        "\n",
        "from string import ascii_lowercase\n",
        "alphabet_list = list(ascii_lowercase)\n",
        "sen= input()\n",
        "\n",
        "for i in range(len(alphabet_list)):\n",
        "    for j in range(len(sen)):\n",
        "        if(alphabet_list[i] == sen[j]):\n",
        "            alphabet_list[i] = j\n",
        "    if(type(alphabet_list[i]) == str):\n",
        "        alphabet_list[i] = -1\n",
        "res = ' '.join(str(s) for s in alphabet_list)\n",
        "print(res)"
      ]
    },
    {
      "cell_type": "code",
      "source": [
        "# 10809번 - (1) : 알파벳 찾기\n",
        "\n",
        "word = input()\n",
        "alphabet = list(range(97,123))  # 아스키코드 숫자 범위\n",
        "\n",
        "for x in alphabet :\n",
        "    print(word.find(chr(x))) # find 함수는 찾는 게 없으면 -1 출력\n"
      ],
      "metadata": {
        "id": "eCvyjSIFADZm"
      },
      "execution_count": 77,
      "outputs": []
    },
    {
      "cell_type": "code",
      "source": [
        "# 2675번 : 문자열 반복\n",
        "\n",
        "for i in range(int(input())):\n",
        "  n,s = list(map(str,input().split()))\n",
        "  for j in range(len(s)):\n",
        "    print(s[j] * int(n), end ='')\n",
        "  print()\n"
      ],
      "metadata": {
        "colab": {
          "base_uri": "https://localhost:8080/"
        },
        "id": "d_wp4YeKFkpG",
        "outputId": "e8ed86e0-b098-4959-9b6c-a064de2afe7e"
      },
      "execution_count": 124,
      "outputs": [
        {
          "output_type": "stream",
          "name": "stdout",
          "text": [
            "3\n",
            "1DGN\n",
            "\n",
            "3GDF\n",
            "\n",
            "4GD\n",
            "\n"
          ]
        }
      ]
    },
    {
      "cell_type": "code",
      "source": [
        "# 1157번 : 단어 공부\n",
        "\n",
        "s = input().upper()\n",
        "res = []\n",
        "for i in range(len(s)):\n",
        "  res.append(s.count(s[i]))\n",
        "if (res.count(max(res)) > 1):\n",
        "  print(\"?\")\n",
        "else:\n",
        "  print(\"not uer\")\n",
        "  "
      ],
      "metadata": {
        "colab": {
          "base_uri": "https://localhost:8080/"
        },
        "id": "U_tGELvhGkN8",
        "outputId": "b0d18c08-3d09-4f21-90a1-eabc733702ce"
      },
      "execution_count": 214,
      "outputs": [
        {
          "output_type": "stream",
          "name": "stdout",
          "text": [
            "dgsdfgadg\n",
            "?\n"
          ]
        }
      ]
    },
    {
      "cell_type": "code",
      "source": [
        "s = input().upper()\n",
        "res = []\n",
        "for i in range(len(s)):\n",
        "  res.append(s.count(s[i]))\n",
        "\n",
        "if (len(set(s)) > len(set(res))):\n",
        "  print(\" ? \")\n",
        "else:\n",
        "  print(s[max(res)])"
      ],
      "metadata": {
        "colab": {
          "base_uri": "https://localhost:8080/"
        },
        "id": "xPs4BLvJMGOe",
        "outputId": "0a0b24e9-f59e-4be1-a05e-953449a3b0fe"
      },
      "execution_count": 272,
      "outputs": [
        {
          "output_type": "stream",
          "name": "stdout",
          "text": [
            "zZa\n",
            "A\n"
          ]
        }
      ]
    }
  ]
}