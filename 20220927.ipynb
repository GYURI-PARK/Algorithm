{
  "nbformat": 4,
  "nbformat_minor": 0,
  "metadata": {
    "colab": {
      "provenance": [],
      "authorship_tag": "ABX9TyNkNsJJ7LSlmjTXLmrgppTd",
      "include_colab_link": true
    },
    "kernelspec": {
      "name": "python3",
      "display_name": "Python 3"
    },
    "language_info": {
      "name": "python"
    }
  },
  "cells": [
    {
      "cell_type": "markdown",
      "metadata": {
        "id": "view-in-github",
        "colab_type": "text"
      },
      "source": [
        "<a href=\"https://colab.research.google.com/github/GYURI-PARK/baekjoon/blob/main/20220927.ipynb\" target=\"_parent\"><img src=\"https://colab.research.google.com/assets/colab-badge.svg\" alt=\"Open In Colab\"/></a>"
      ]
    },
    {
      "cell_type": "code",
      "execution_count": 1,
      "metadata": {
        "colab": {
          "base_uri": "https://localhost:8080/"
        },
        "id": "cExka0iEkjSF",
        "outputId": "e8ce58e2-7b38-456c-dec8-db5ea03456da"
      },
      "outputs": [
        {
          "output_type": "stream",
          "name": "stdout",
          "text": [
            "1\n",
            "4 2\n",
            "1 2 3 4\n",
            "2\n"
          ]
        }
      ],
      "source": [
        "# 1966번 ; 프린터 큐\n",
        "\n",
        "test_cases = int(input())\n",
        "\n",
        "for _ in range(test_cases):\n",
        "    n,m = list(map(int, input().split( )))\n",
        "    imp = list(map(int, input().split( )))\n",
        "    idx = list(range(len(imp)))\n",
        "    idx[m] = 'target'\n",
        "\n",
        "    # 순서\n",
        "    order = 0\n",
        "    \n",
        "    while True:\n",
        "        # 첫번째 if: imp의 첫번째 값 = 최댓값?\n",
        "        if imp[0]==max(imp):\n",
        "            order += 1\n",
        "                        \n",
        "            # 두번째 if: idx의 첫 번째 값 = \"target\"?\n",
        "            if idx[0]=='target':\n",
        "                print(order)\n",
        "                break\n",
        "            else:\n",
        "                imp.pop(0)\n",
        "                idx.pop(0)\n",
        "\n",
        "        else:\n",
        "            imp.append(imp.pop(0))\n",
        "            idx.append(idx.pop(0))"
      ]
    },
    {
      "cell_type": "code",
      "source": [],
      "metadata": {
        "id": "2_KyU9ohqXSY"
      },
      "execution_count": null,
      "outputs": []
    }
  ]
}