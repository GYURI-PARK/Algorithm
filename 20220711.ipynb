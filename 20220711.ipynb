{
  "nbformat": 4,
  "nbformat_minor": 0,
  "metadata": {
    "colab": {
      "name": "20220711.ipynb",
      "provenance": [],
      "authorship_tag": "ABX9TyM51Ixh5BJmwj/F25zc42v4",
      "include_colab_link": true
    },
    "kernelspec": {
      "name": "python3",
      "display_name": "Python 3"
    },
    "language_info": {
      "name": "python"
    }
  },
  "cells": [
    {
      "cell_type": "markdown",
      "metadata": {
        "id": "view-in-github",
        "colab_type": "text"
      },
      "source": [
        "<a href=\"https://colab.research.google.com/github/GYURI-PARK/baekjoon/blob/main/20220711.ipynb\" target=\"_parent\"><img src=\"https://colab.research.google.com/assets/colab-badge.svg\" alt=\"Open In Colab\"/></a>"
      ]
    },
    {
      "cell_type": "code",
      "execution_count": 11,
      "metadata": {
        "colab": {
          "base_uri": "https://localhost:8080/"
        },
        "id": "vZBPtM_8qxis",
        "outputId": "b299e8e6-387e-47eb-88d0-bfbeb5544dd2"
      },
      "outputs": [
        {
          "output_type": "stream",
          "name": "stdout",
          "text": [
            "jhjgjhg\n",
            "J\n"
          ]
        }
      ],
      "source": [
        "# 1157번 : 단어 공부\n",
        "# dictionary 사용하기\n",
        "\n",
        "s =  list(input().upper())\n",
        "d = {}\n",
        "for i in s:\n",
        "  d[i] = s.count(i)\n",
        "count_list = list(d.values())\n",
        "\n",
        "maxCount = 0\n",
        "for i in range(len(d)):\n",
        "  if(count_list[i] >= max(count_list)):\n",
        "    maxCount += 1\n",
        "\n",
        "if(maxCount > 1):\n",
        "  print(\"?\")\n",
        "else:\n",
        "  ans = [k for k, v in d.items() if v == max(count_list)]\n",
        "  print(ans[0])"
      ]
    },
    {
      "cell_type": "code",
      "source": [
        "# 1157번 : 단어 공부\n",
        "\n",
        "sen = str(input().upper())\n",
        "freq = []\n",
        "for char in set(sen):\n",
        "  count = sen.count(char)\n",
        "  freq.append([count, char])\n",
        "freq.sort(reverse = True)\n",
        "if(len(freq)>1 and freq[0][0] == freq[1][0]):\n",
        "  print(\"?\")\n",
        "\n",
        "else:\n",
        "  print(freq[0][1])"
      ],
      "metadata": {
        "colab": {
          "base_uri": "https://localhost:8080/"
        },
        "id": "EHTUGSzorwiy",
        "outputId": "e2ecc760-faac-4347-e955-34087348270e"
      },
      "execution_count": 9,
      "outputs": [
        {
          "output_type": "stream",
          "name": "stdout",
          "text": [
            "msdfsihsg\n",
            "S\n"
          ]
        }
      ]
    },
    {
      "cell_type": "code",
      "source": [
        "# 1152번 : 단어의 개수\n",
        "\n",
        "sen2 = str(input())\n",
        "len(sen2.split())"
      ],
      "metadata": {
        "colab": {
          "base_uri": "https://localhost:8080/"
        },
        "id": "v2dZ2XRftfYu",
        "outputId": "419fca6e-1543-4e08-841a-37a435e20bd7"
      },
      "execution_count": 22,
      "outputs": [
        {
          "name": "stdout",
          "output_type": "stream",
          "text": [
            "the first blank is not empty\n"
          ]
        },
        {
          "output_type": "execute_result",
          "data": {
            "text/plain": [
              "6"
            ]
          },
          "metadata": {},
          "execution_count": 22
        }
      ]
    },
    {
      "cell_type": "code",
      "source": [
        "# 8959번 : OX퀴즈\n",
        "\n",
        "n = int(input())\n",
        "score = 0\n",
        "sum = 0\n",
        "\n",
        "for i in range(n):\n",
        "  str1 = str(input())\n",
        "  for i in range(len(str1)):\n",
        "    if(str1[i] == \"O\"):\n",
        "      score += 1\n",
        "      sum += score\n",
        "    print(sum)\n"
      ],
      "metadata": {
        "colab": {
          "base_uri": "https://localhost:8080/"
        },
        "id": "qciONnwbySzp",
        "outputId": "14aa7e6f-fbaa-4cdb-ca26-7a3d724a0212"
      },
      "execution_count": 26,
      "outputs": [
        {
          "output_type": "stream",
          "name": "stdout",
          "text": [
            "2\n",
            "OXOXOXOO\n",
            "1\n",
            "1\n",
            "3\n",
            "3\n",
            "6\n",
            "6\n",
            "10\n",
            "15\n",
            "OOXOXOXO\n",
            "21\n",
            "28\n",
            "28\n",
            "36\n",
            "36\n",
            "45\n",
            "45\n",
            "55\n"
          ]
        }
      ]
    },
    {
      "cell_type": "code",
      "source": [
        "# 4673번 : 셀프 넘버\n",
        "\n",
        "numbers = list(range(1,10_001))\n",
        "remove_list=[]    #생성자 리스트\n",
        "for num in numbers:\n",
        "    for n in str(num):\n",
        "        num += int(n)\n",
        "    if num <= 10_000:\n",
        "        remove_list.append(num)\n",
        "for remove_num in set(remove_list):\n",
        "    numbers.remove(remove_num)\n",
        "for self_num in numbers:\n",
        "    print(self_num)"
      ],
      "metadata": {
        "id": "rbflvI8Q2n1z"
      },
      "execution_count": null,
      "outputs": []
    },
    {
      "cell_type": "code",
      "source": [
        "# 4673번 : 셀프 넘버\n",
        "num_list = list(range(1,101))\n",
        "remove = []\n"
      ],
      "metadata": {
        "id": "8w_0uAep7Cxr"
      },
      "execution_count": 28,
      "outputs": []
    },
    {
      "cell_type": "code",
      "source": [
        "# 1065번 : 한수\n"
      ],
      "metadata": {
        "id": "yOFnp8Sf_mFA"
      },
      "execution_count": null,
      "outputs": []
    }
  ]
}