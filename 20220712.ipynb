{
  "nbformat": 4,
  "nbformat_minor": 0,
  "metadata": {
    "colab": {
      "name": "20220712.ipynb",
      "provenance": [],
      "authorship_tag": "ABX9TyMANf9ObfU/D1YX/ykyUDr0",
      "include_colab_link": true
    },
    "kernelspec": {
      "name": "python3",
      "display_name": "Python 3"
    },
    "language_info": {
      "name": "python"
    }
  },
  "cells": [
    {
      "cell_type": "markdown",
      "metadata": {
        "id": "view-in-github",
        "colab_type": "text"
      },
      "source": [
        "<a href=\"https://colab.research.google.com/github/GYURI-PARK/baekjoon/blob/main/20220712.ipynb\" target=\"_parent\"><img src=\"https://colab.research.google.com/assets/colab-badge.svg\" alt=\"Open In Colab\"/></a>"
      ]
    },
    {
      "cell_type": "code",
      "execution_count": 14,
      "metadata": {
        "colab": {
          "base_uri": "https://localhost:8080/"
        },
        "id": "uyE4Z1G3TCt1",
        "outputId": "b01cb1d6-20e5-4898-fb54-f8db10f243a7"
      },
      "outputs": [
        {
          "output_type": "stream",
          "name": "stdout",
          "text": [
            "5\n",
            "OOXXOXXOOO\n",
            "10\n",
            "OOXXOOXXOO\n",
            "9\n",
            "OXOXOXOXOXOXOX\n",
            "7\n",
            "OOOOOOOOOO\n",
            "55\n",
            "OOOOXOOOOXOOOOX\n",
            "30\n"
          ]
        }
      ],
      "source": [
        "# 8958번 : OX퀴즈\n",
        "\n",
        "n = int(input())\n",
        "\n",
        "for i in range(n):\n",
        "  count = 0\n",
        "  sum = 0\n",
        "  s = input()\n",
        "  for j in range(len(s)):\n",
        "    if (s[j] == \"O\"):\n",
        "      count += 1\n",
        "      sum += count\n",
        "    else:\n",
        "      count = 0\n",
        "  print(sum)\n",
        "  "
      ]
    },
    {
      "cell_type": "code",
      "source": [
        "8+6+8+2+4+2"
      ],
      "metadata": {
        "colab": {
          "base_uri": "https://localhost:8080/"
        },
        "id": "ouM8LzVdUO1y",
        "outputId": "354b84ec-c979-40b0-b21c-bb8b18f97d53"
      },
      "execution_count": 15,
      "outputs": [
        {
          "output_type": "execute_result",
          "data": {
            "text/plain": [
              "30"
            ]
          },
          "metadata": {},
          "execution_count": 15
        }
      ]
    },
    {
      "cell_type": "code",
      "source": [
        "# 5622번 : 다이얼\n",
        "\n",
        "s = list(input())\n",
        "count = 0\n",
        "for z in s:\n",
        "  if(ord(z) <= 67):\n",
        "    count += 3\n",
        "  elif(ord(z) <= 70):\n",
        "    count += 4\n",
        "  elif(ord(z) <= 73):\n",
        "    count += 5\n",
        "  elif(ord(z) <= 76):\n",
        "    count += 6\n",
        "  elif(ord(z) <= 79):\n",
        "    count += 7\n",
        "  elif(ord(z) <= 83):\n",
        "    count += 8\n",
        "  elif(ord(z) <= 86):\n",
        "    count += 9\n",
        "  else:\n",
        "    count += 10\n",
        "\n",
        "print(count)"
      ],
      "metadata": {
        "colab": {
          "base_uri": "https://localhost:8080/"
        },
        "id": "scPprLAKv0q6",
        "outputId": "d4d1d2cf-fd35-4edd-c676-4eab42ed3f19"
      },
      "execution_count": 32,
      "outputs": [
        {
          "output_type": "stream",
          "name": "stdout",
          "text": [
            "UNUCIC\n",
            "36\n"
          ]
        }
      ]
    },
    {
      "cell_type": "code",
      "source": [
        "# 5622번 : 다이얼\n",
        "# 문자열 사용하기\n",
        "\n",
        "s = list(input())\n",
        "dial = ['ABC','DEF','GHI','JKL','MNO','PQRS','TUV','WXYZ']\n",
        "count = 0\n",
        "\n",
        "for i in s:\n",
        "  for j in dial:\n",
        "    if i in j:\n",
        "      count += dial.index(j) + 3\n",
        "\n",
        "print(count)"
      ],
      "metadata": {
        "colab": {
          "base_uri": "https://localhost:8080/"
        },
        "id": "pfy-ufk8ylzU",
        "outputId": "10a57773-2d04-4166-96d7-5ba4e1ad00f7"
      },
      "execution_count": 34,
      "outputs": [
        {
          "output_type": "stream",
          "name": "stdout",
          "text": [
            "UNUCIC\n",
            "36\n"
          ]
        }
      ]
    }
  ]
}