{
 "cells": [
  {
   "cell_type": "markdown",
   "id": "1cc45a30",
   "metadata": {},
   "source": [
    "# 자료구조 큐"
   ]
  },
  {
   "cell_type": "markdown",
   "id": "aac8831d",
   "metadata": {},
   "source": [
    "### 11866번 : 요세푸스 문제 0"
   ]
  },
  {
   "cell_type": "code",
   "execution_count": 33,
   "id": "5910560b",
   "metadata": {},
   "outputs": [
    {
     "name": "stdout",
     "output_type": "stream",
     "text": [
      "7 3\n",
      "<3, 6, 2, 7, 5, 1, 4>\n"
     ]
    }
   ],
   "source": [
    "from collections import deque\n",
    "\n",
    "n,k = map(int, input().split())\n",
    "queue = deque()\n",
    "for i in range(1,n+1):\n",
    "    queue.append(i)\n",
    "    \n",
    "res = []\n",
    "\n",
    "# 큐가 빌때까지\n",
    "while queue:\n",
    "    count = 0 \n",
    "    for i in range(1,k+1):\n",
    "        if i == k:\n",
    "            res.append(queue.popleft())\n",
    "        else:\n",
    "            queue.append(queue.popleft())\n",
    "            \n",
    "print(\"<\",end='')\n",
    "for i in range(len(res)-1):\n",
    "    print(res[i],',',end=' ',sep='')\n",
    "print(res[-1],'>',sep='')"
   ]
  },
  {
   "cell_type": "code",
   "execution_count": 15,
   "id": "96e5420b",
   "metadata": {},
   "outputs": [],
   "source": [
    "a = queue.popleft()"
   ]
  },
  {
   "cell_type": "code",
   "execution_count": 19,
   "id": "4815bf68",
   "metadata": {},
   "outputs": [
    {
     "data": {
      "text/plain": [
       "[3, 6, 2, 7, 5, 1, 4]"
      ]
     },
     "execution_count": 19,
     "metadata": {},
     "output_type": "execute_result"
    }
   ],
   "source": [
    "res"
   ]
  },
  {
   "cell_type": "code",
   "execution_count": 13,
   "id": "d1ce2068",
   "metadata": {},
   "outputs": [
    {
     "data": {
      "text/plain": [
       "1"
      ]
     },
     "execution_count": 13,
     "metadata": {},
     "output_type": "execute_result"
    }
   ],
   "source": [
    "len(li)"
   ]
  },
  {
   "cell_type": "code",
   "execution_count": null,
   "id": "8e6c8a40",
   "metadata": {},
   "outputs": [],
   "source": []
  }
 ],
 "metadata": {
  "kernelspec": {
   "display_name": "Python 3 (ipykernel)",
   "language": "python",
   "name": "python3"
  },
  "language_info": {
   "codemirror_mode": {
    "name": "ipython",
    "version": 3
   },
   "file_extension": ".py",
   "mimetype": "text/x-python",
   "name": "python",
   "nbconvert_exporter": "python",
   "pygments_lexer": "ipython3",
   "version": "3.9.12"
  }
 },
 "nbformat": 4,
 "nbformat_minor": 5
}
