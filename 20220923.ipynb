{
  "nbformat": 4,
  "nbformat_minor": 0,
  "metadata": {
    "colab": {
      "provenance": [],
      "authorship_tag": "ABX9TyOgaZwkN1U47sASkppRwfy2",
      "include_colab_link": true
    },
    "kernelspec": {
      "name": "python3",
      "display_name": "Python 3"
    },
    "language_info": {
      "name": "python"
    }
  },
  "cells": [
    {
      "cell_type": "markdown",
      "metadata": {
        "id": "view-in-github",
        "colab_type": "text"
      },
      "source": [
        "<a href=\"https://colab.research.google.com/github/GYURI-PARK/baekjoon/blob/main/20220923.ipynb\" target=\"_parent\"><img src=\"https://colab.research.google.com/assets/colab-badge.svg\" alt=\"Open In Colab\"/></a>"
      ]
    },
    {
      "cell_type": "code",
      "execution_count": 16,
      "metadata": {
        "colab": {
          "base_uri": "https://localhost:8080/"
        },
        "id": "ajtnWSkLPo-c",
        "outputId": "e91d6d08-966b-4ed1-f5e8-9b8012f4d362"
      },
      "outputs": [
        {
          "output_type": "stream",
          "name": "stdout",
          "text": [
            "8\n",
            "4\n",
            "3\n",
            "6\n",
            "8\n",
            "7\n",
            "5\n",
            "2\n",
            "1\n",
            "+\n",
            "+\n",
            "+\n",
            "+\n",
            "-\n",
            "-\n",
            "+\n",
            "+\n",
            "-\n",
            "+\n",
            "+\n",
            "-\n",
            "-\n",
            "-\n",
            "-\n",
            "-\n"
          ]
        }
      ],
      "source": [
        "# 1874번 : 스택 수열\n",
        "\n",
        "\n",
        "n = int(input())\n",
        "li = [] \n",
        "for i in range(n):\n",
        "  li.append(int(input()))\n",
        "\n",
        "add = 1\n",
        "empty = []\n",
        "res = []\n",
        "can = 0\n",
        "\n",
        "for i in range(n):\n",
        "  while add <= li[i]:\n",
        "    empty.append(add)\n",
        "    res.append('+')\n",
        "    add += 1\n",
        "\n",
        "  if empty[-1] == li[i]:\n",
        "    res.append('-')\n",
        "    empty.pop()\n",
        "  \n",
        "  else:\n",
        "    print('NO')\n",
        "    can = 1\n",
        "    break;\n",
        "\n",
        "if can == 0:\n",
        "  for i in range(len(res)):\n",
        "    print(res[i])"
      ]
    },
    {
      "cell_type": "code",
      "source": [
        "8\n",
        "4\n",
        "3\n",
        "6\n",
        "8\n",
        "7\n",
        "5\n",
        "2\n",
        "1"
      ],
      "metadata": {
        "id": "Je21qKONFzRL"
      },
      "execution_count": null,
      "outputs": []
    },
    {
      "cell_type": "code",
      "source": [
        "n = int(input())\n",
        "stack = []\n",
        "answer = []\n",
        "flag = 0\n",
        "cur = 1\n",
        "for i in range(n):\n",
        "    num = int(input())\n",
        "    while cur <= num:       # 입력한 수를 만날 때 까지 오름차순으로 push\n",
        "        stack.append(cur)\n",
        "        answer.append(\"+\")\n",
        "        cur += 1\n",
        "    # 입력한 수를 만나면 while문 탈출. 즉 cur = num일 때 까지 while문을 돌아 스택을 쌓는다.\n",
        "\n",
        "    if stack[-1] == num:    # stack의 TOP이 입력한 숫자와 같다면\n",
        "        stack.pop()         # 스택의 TOP을 꺼내 수열을 만들어 준다.\n",
        "        answer.append(\"-\")\n",
        "    else:                   # stack의 TOP이 입력한 수가 아니면 주어진 스택을 만들 수 없다.\n",
        "        print(\"NO\")         # 왜냐하면 12345 처럼 오름차순으로 스택이 입력되는데\n",
        "        flag = 1            # TOP이 num보다 크면 num은 TOP보다 더 아래에 쌓여있기 때문이다.\n",
        "        break               \n",
        "\n",
        "if flag == 0:\n",
        "    for i in answer:\n",
        "        print(i)"
      ],
      "metadata": {
        "id": "wpsaZTExRn1D"
      },
      "execution_count": null,
      "outputs": []
    },
    {
      "cell_type": "code",
      "source": [
        "# 4889번 : 안정적인 문자열\n",
        "\n",
        "li = []\n",
        "\n",
        "stack = []\n",
        "\n",
        "\n",
        "while(True):\n",
        "  s = input()\n",
        "  li.append(s)\n",
        "  error = 0\n",
        "\n",
        "  if '-' in s:\n",
        "    break; \n",
        "\n",
        "  for i in range(len(s)):\n",
        "    if not stack and s[i] == '}':\n",
        "      # 첫번째 문자가 } 일 경우 -> err + 1 하고 { 추가\n",
        "      error += 1\n",
        "      stack.append('{')\n",
        "    elif stack and s[i] == '}':\n",
        "      stack.pop()\n",
        "    else:\n",
        "      stack.append(s[i])\n",
        "  \n"
      ],
      "metadata": {
        "colab": {
          "base_uri": "https://localhost:8080/"
        },
        "id": "yBNnXMtPLyzi",
        "outputId": "ad4f15cd-f55e-4657-c3ea-0820a23978a7"
      },
      "execution_count": 20,
      "outputs": [
        {
          "name": "stdout",
          "output_type": "stream",
          "text": [
            "{}}\n",
            "{{{\n",
            "{}{\n",
            "-\n"
          ]
        }
      ]
    },
    {
      "cell_type": "code",
      "source": [
        "result = []\n",
        "\n",
        "while True:\n",
        "    stack = []\n",
        "    count = 0\n",
        "    s = input()\n",
        "    if '-' in s:\n",
        "        break\n",
        "    for i in range(len(s)):\n",
        "        if not stack and s[i] == '}':\n",
        "            count += 1\n",
        "            stack.append('{')\n",
        "            print(stack)\n",
        "        elif stack and s[i] == '}':\n",
        "            print(stack)\n",
        "            stack.pop()\n",
        "            print(stack)\n",
        "\n",
        "        else:\n",
        "            stack.append(s[i])\n",
        "            print(stack)\n",
        "    count += len(stack)//2\n",
        "    result.append(count)\n",
        "\n",
        "for i in range(len(result)):\n",
        "    print(i+1, '. ', result[i], sep='')"
      ],
      "metadata": {
        "colab": {
          "base_uri": "https://localhost:8080/"
        },
        "id": "X0H_ojWvSKpY",
        "outputId": "595443c0-8065-4334-8628-7a141b7061a5"
      },
      "execution_count": 24,
      "outputs": [
        {
          "output_type": "stream",
          "name": "stdout",
          "text": [
            "{{}}}\n",
            "['{']\n",
            "['{', '{']\n",
            "['{', '{']\n",
            "['{']\n",
            "['{']\n",
            "[]\n",
            "['{']\n",
            "{}{}\n",
            "['{']\n",
            "['{']\n",
            "[]\n",
            "['{']\n",
            "['{']\n",
            "[]\n",
            "{}}}\n",
            "['{']\n",
            "['{']\n",
            "[]\n",
            "['{']\n",
            "['{']\n",
            "[]\n",
            "----\n",
            "1. 1\n",
            "2. 0\n",
            "3. 1\n"
          ]
        }
      ]
    },
    {
      "cell_type": "code",
      "source": [
        "stack = []\n",
        "not stack"
      ],
      "metadata": {
        "colab": {
          "base_uri": "https://localhost:8080/"
        },
        "id": "BQvU-TMDL2fk",
        "outputId": "8574d643-4fee-4f5d-8069-34cf03ac589a"
      },
      "execution_count": 21,
      "outputs": [
        {
          "output_type": "execute_result",
          "data": {
            "text/plain": [
              "True"
            ]
          },
          "metadata": {},
          "execution_count": 21
        }
      ]
    },
    {
      "cell_type": "code",
      "source": [
        "stack"
      ],
      "metadata": {
        "colab": {
          "base_uri": "https://localhost:8080/"
        },
        "id": "8BsYwYpBQX1t",
        "outputId": "e3fb59ea-43ee-44de-ab73-acf3f7fa6dfb"
      },
      "execution_count": 22,
      "outputs": [
        {
          "output_type": "execute_result",
          "data": {
            "text/plain": [
              "[]"
            ]
          },
          "metadata": {},
          "execution_count": 22
        }
      ]
    },
    {
      "cell_type": "code",
      "source": [],
      "metadata": {
        "id": "8YrkDz67QY0o"
      },
      "execution_count": null,
      "outputs": []
    }
  ]
}