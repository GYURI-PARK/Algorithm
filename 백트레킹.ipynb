{
 "cells": [
  {
   "cell_type": "markdown",
   "id": "02314127",
   "metadata": {},
   "source": [
    "# 15649번 : N과 M(1)"
   ]
  },
  {
   "cell_type": "code",
   "execution_count": 18,
   "id": "61ded5f0",
   "metadata": {},
   "outputs": [
    {
     "name": "stdout",
     "output_type": "stream",
     "text": [
      "4 2\n",
      "1 2 \n",
      "1 3 \n",
      "1 4 \n",
      "2 1 \n",
      "2 3 \n",
      "2 4 \n",
      "3 1 \n",
      "3 2 \n",
      "3 4 \n",
      "4 1 \n",
      "4 2 \n",
      "4 3 \n"
     ]
    }
   ],
   "source": [
    "import itertools\n",
    "n, m = map(int,input().split())\n",
    "num_list = [i for i in range(1,n+1)]\n",
    "\n",
    "arr = itertools.permutations(num_list, m)\n",
    "\n",
    "for i in arr:\n",
    "    for j in i:\n",
    "        print(j, end=' ')\n",
    "    print()"
   ]
  },
  {
   "cell_type": "markdown",
   "id": "c187c9b4",
   "metadata": {},
   "source": [
    "# 15650번 : N과 M(2)"
   ]
  },
  {
   "cell_type": "code",
   "execution_count": 16,
   "id": "ced2f61c",
   "metadata": {},
   "outputs": [
    {
     "name": "stdout",
     "output_type": "stream",
     "text": [
      "4 4\n",
      "1 2 3 4 \n"
     ]
    }
   ],
   "source": [
    "import itertools\n",
    "n, m = map(int,input().split())\n",
    "num_list = [i for i in range(1,n+1)]\n",
    "\n",
    "arr = itertools.combinations(num_list, m)\n",
    "\n",
    "for i in arr:\n",
    "    for j in i:\n",
    "        print(j, end=' ')\n",
    "    print()\n",
    "    "
   ]
  },
  {
   "cell_type": "code",
   "execution_count": 6,
   "id": "190bda33",
   "metadata": {},
   "outputs": [
    {
     "data": {
      "text/plain": [
       "<itertools.permutations at 0x7fe3215f7590>"
      ]
     },
     "execution_count": 6,
     "metadata": {},
     "output_type": "execute_result"
    }
   ],
   "source": [
    "arr"
   ]
  },
  {
   "cell_type": "markdown",
   "id": "b0dc21e5",
   "metadata": {},
   "source": [
    "# 15651번 : N과 M(3)"
   ]
  },
  {
   "cell_type": "code",
   "execution_count": 1,
   "id": "0eee2932",
   "metadata": {
    "scrolled": true
   },
   "outputs": [
    {
     "name": "stdout",
     "output_type": "stream",
     "text": [
      "3 3\n",
      "1 1 1 \n",
      "1 1 2 \n",
      "1 1 3 \n",
      "1 2 1 \n",
      "1 2 2 \n",
      "1 2 3 \n",
      "1 3 1 \n",
      "1 3 2 \n",
      "1 3 3 \n",
      "2 1 1 \n",
      "2 1 2 \n",
      "2 1 3 \n",
      "2 2 1 \n",
      "2 2 2 \n",
      "2 2 3 \n",
      "2 3 1 \n",
      "2 3 2 \n",
      "2 3 3 \n",
      "3 1 1 \n",
      "3 1 2 \n",
      "3 1 3 \n",
      "3 2 1 \n",
      "3 2 2 \n",
      "3 2 3 \n",
      "3 3 1 \n",
      "3 3 2 \n",
      "3 3 3 \n"
     ]
    }
   ],
   "source": [
    "import itertools\n",
    "n, m = map(int,input().split())\n",
    "num_list = [i for i in range(1,n+1)]\n",
    "\n",
    "arr = itertools.product(num_list, repeat=m)\n",
    "\n",
    "for i in arr:\n",
    "    for j in i:\n",
    "        print(j, end=' ')\n",
    "    print()"
   ]
  },
  {
   "cell_type": "markdown",
   "id": "39cd9589",
   "metadata": {},
   "source": [
    "# N과 M(4)"
   ]
  },
  {
   "cell_type": "code",
   "execution_count": 2,
   "id": "4ca191e0",
   "metadata": {},
   "outputs": [
    {
     "name": "stdout",
     "output_type": "stream",
     "text": [
      "3 3\n",
      "1 1 1 \n",
      "1 1 2 \n",
      "1 1 3 \n",
      "1 2 2 \n",
      "1 2 3 \n",
      "1 3 3 \n",
      "2 2 2 \n",
      "2 2 3 \n",
      "2 3 3 \n",
      "3 3 3 \n"
     ]
    }
   ],
   "source": [
    "import itertools\n",
    "n, m = map(int,input().split())\n",
    "num_list = [i for i in range(1,n+1)]\n",
    "\n",
    "arr = itertools.combinations_with_replacement(num_list, m)\n",
    "\n",
    "for i in arr:\n",
    "    for j in i:\n",
    "        print(j, end=' ')\n",
    "    print()"
   ]
  },
  {
   "cell_type": "markdown",
   "id": "4b902ef0",
   "metadata": {},
   "source": [
    "# 14888번 : 연산자 끼워넣기"
   ]
  },
  {
   "cell_type": "markdown",
   "id": "134d2a7b",
   "metadata": {},
   "source": [
    "백트레킹과 BFS 사용"
   ]
  },
  {
   "cell_type": "code",
   "execution_count": 32,
   "id": "3bc80819",
   "metadata": {
    "scrolled": true
   },
   "outputs": [
    {
     "name": "stdout",
     "output_type": "stream",
     "text": [
      "3\n",
      "4 5 2\n",
      "1 1 1 0\n"
     ]
    },
    {
     "ename": "TypeError",
     "evalue": "unsupported operand type(s) for -=: 'tuple' and 'tuple'",
     "output_type": "error",
     "traceback": [
      "\u001b[0;31m---------------------------------------------------------------------------\u001b[0m",
      "\u001b[0;31mTypeError\u001b[0m                                 Traceback (most recent call last)",
      "Input \u001b[0;32mIn [32]\u001b[0m, in \u001b[0;36m<cell line: 23>\u001b[0;34m()\u001b[0m\n\u001b[1;32m     29\u001b[0m     result \u001b[38;5;241m+\u001b[39m\u001b[38;5;241m=\u001b[39m q[i]\n\u001b[1;32m     30\u001b[0m \u001b[38;5;28;01melif\u001b[39;00m now_list[i\u001b[38;5;241m-\u001b[39m\u001b[38;5;241m1\u001b[39m] \u001b[38;5;241m==\u001b[39m \u001b[38;5;124m'\u001b[39m\u001b[38;5;124m-\u001b[39m\u001b[38;5;124m'\u001b[39m:\n\u001b[0;32m---> 31\u001b[0m     result \u001b[38;5;241m-\u001b[39m\u001b[38;5;241m=\u001b[39m q[i]  \n\u001b[1;32m     32\u001b[0m \u001b[38;5;28;01melif\u001b[39;00m now_list[i\u001b[38;5;241m-\u001b[39m\u001b[38;5;241m1\u001b[39m] \u001b[38;5;241m==\u001b[39m \u001b[38;5;124m'\u001b[39m\u001b[38;5;124m*\u001b[39m\u001b[38;5;124m'\u001b[39m:\n\u001b[1;32m     33\u001b[0m     result \u001b[38;5;241m*\u001b[39m\u001b[38;5;241m=\u001b[39m q[i]  \n",
      "\u001b[0;31mTypeError\u001b[0m: unsupported operand type(s) for -=: 'tuple' and 'tuple'"
     ]
    }
   ],
   "source": [
    "import itertools\n",
    "from collections import deque\n",
    "\n",
    "n = int(input())\n",
    "num_list =[map(int,input().split())]\n",
    "cal = ['+', '-', '*', '//']\n",
    "cal_opt = input().split()\n",
    "cal_res = []\n",
    "\n",
    "for i in range(4):\n",
    "    if cal_opt[i] != 0:\n",
    "        for j in range(int(cal_opt[i])):\n",
    "            cal_res.append(cal[i])\n",
    "            \n",
    "# 순열 모듈을 사용해서 나올수 있는 \"연산자\" 모든 조합 입력받기\n",
    "case = list(itertools.permutations(cal_res, len(cal_res)))\n",
    "\n",
    "max_value = -1e9\n",
    "min_value = 1e9\n",
    "\n",
    "q = deque(case)\n",
    "\n",
    "while q:\n",
    "    now_list = q.popleft()\n",
    "    result = q[0]\n",
    "\n",
    "    for i in range(1, len(q)):\n",
    "        if now_list[i-1] == '+':\n",
    "            result += q[i]\n",
    "        elif now_list[i-1] == '-':\n",
    "            result -= q[i]  \n",
    "        elif now_list[i-1] == '*':\n",
    "            result *= q[i]  \n",
    "        else:\n",
    "            if result < 0:\n",
    "                result = -(abs(result) // q[i])\n",
    "            else:\n",
    "                result = result // q[i]    \n",
    "    # 최댓값, 최솟값 계산      \n",
    "    max_result = max(max_result, result)\n",
    "    min_result = min(min_result, result)\n",
    "\n",
    "# 결과 출력\n",
    "print(max_result)\n",
    "print(min_result)"
   ]
  },
  {
   "cell_type": "code",
   "execution_count": 34,
   "id": "7a3aa1f5",
   "metadata": {},
   "outputs": [
    {
     "name": "stdout",
     "output_type": "stream",
     "text": [
      "3\n",
      "5 7 9\n",
      "1 1 1 1\n",
      "108\n",
      "-18\n"
     ]
    }
   ],
   "source": [
    "n = int(input())\n",
    "number = list(map(int, input().split()))\n",
    "op = list(map(int, input().split()))\n",
    "minR = int(1e9)\n",
    "maxR = -int(1e9)\n",
    "\n",
    "answer = number[0]\n",
    "\n",
    "def dfs(idx):\n",
    "    global answer\n",
    "    global minR, maxR\n",
    "\n",
    "    if idx == n:\n",
    "        if answer > maxR:\n",
    "            maxR = answer\n",
    "        if answer < minR:\n",
    "            minR = answer\n",
    "        return\n",
    "\n",
    "    for i in range(4):\n",
    "        tmp = answer\n",
    "        if op[i] > 0:\n",
    "            if i == 0:\n",
    "                answer += number[idx]\n",
    "            elif i == 1:\n",
    "                answer -= number[idx]\n",
    "            elif i == 2:\n",
    "                answer *= number[idx]\n",
    "            else:\n",
    "                if answer >= 0:\n",
    "                    answer //= number[idx]\n",
    "                else:\n",
    "                    answer = (-answer // number[idx]) * -1\n",
    "\n",
    "            op[i] -= 1\n",
    "            dfs(idx+1)\n",
    "            answer = tmp\n",
    "            op[i] += 1\n",
    "\n",
    "\n",
    "dfs(1)\n",
    "print(maxR)\n",
    "print(minR)"
   ]
  },
  {
   "cell_type": "code",
   "execution_count": null,
   "id": "4a0ca719",
   "metadata": {},
   "outputs": [],
   "source": []
  }
 ],
 "metadata": {
  "kernelspec": {
   "display_name": "Python 3 (ipykernel)",
   "language": "python",
   "name": "python3"
  },
  "language_info": {
   "codemirror_mode": {
    "name": "ipython",
    "version": 3
   },
   "file_extension": ".py",
   "mimetype": "text/x-python",
   "name": "python",
   "nbconvert_exporter": "python",
   "pygments_lexer": "ipython3",
   "version": "3.9.12"
  }
 },
 "nbformat": 4,
 "nbformat_minor": 5
}
