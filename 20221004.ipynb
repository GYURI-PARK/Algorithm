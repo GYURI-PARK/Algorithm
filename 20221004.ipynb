{
 "cells": [
  {
   "cell_type": "code",
   "execution_count": 1,
   "id": "05f400f2",
   "metadata": {},
   "outputs": [],
   "source": [
    "idx = list(range(4))"
   ]
  },
  {
   "cell_type": "code",
   "execution_count": 2,
   "id": "ba53db69",
   "metadata": {},
   "outputs": [
    {
     "data": {
      "text/plain": [
       "[0, 1, 2, 3]"
      ]
     },
     "execution_count": 2,
     "metadata": {},
     "output_type": "execute_result"
    }
   ],
   "source": [
    "idx"
   ]
  },
  {
   "cell_type": "code",
   "execution_count": 10,
   "id": "20a20a5f",
   "metadata": {},
   "outputs": [
    {
     "name": "stdout",
     "output_type": "stream",
     "text": [
      "1\n",
      "5 2\n",
      "4 5 2 3 1\n",
      "else: imp :  [5, 2, 3, 1, 4]\n",
      "else : idx : [1, 2, 3, 4, 0]\n",
      "if 안에 imp [2, 3, 1, 4]\n",
      "if 안에 idx [2, 3, 4, 0]\n",
      "else: imp :  [3, 1, 4, 2]\n",
      "else : idx : [3, 4, 0, 2]\n",
      "else: imp :  [1, 4, 2, 3]\n",
      "else : idx : [4, 0, 2, 3]\n",
      "else: imp :  [4, 2, 3, 1]\n",
      "else : idx : [0, 2, 3, 4]\n",
      "if 안에 imp [2, 3, 1]\n",
      "if 안에 idx [2, 3, 4]\n",
      "else: imp :  [3, 1, 2]\n",
      "else : idx : [3, 4, 2]\n",
      "if 안에 imp [1, 2]\n",
      "if 안에 idx [4, 2]\n",
      "else: imp :  [2, 1]\n",
      "else : idx : [2, 4]\n",
      "4\n"
     ]
    }
   ],
   "source": [
    "test_case = int(input())\n",
    "\n",
    "for i in range(test_case):\n",
    "    n,m = list(map(int, input().split( )))\n",
    "    # n : 문서의 개수, m : 찾고자 하는 문서의 현재 위치\n",
    "    \n",
    "    imp = list(map(int, input().split( )))\n",
    "    # 문서들의 중요도\n",
    "    \n",
    "    idx = list(range(len(imp)))\n",
    "    # n개의 문서들의 위치 배열 ex) 0,1,2, ... n\n",
    "    \n",
    "    target = idx[m]\n",
    "\n",
    "    # 순서\n",
    "    order = 0\n",
    "    \n",
    "    while True:\n",
    "        # 첫번째 if: imp의 첫번째 값 = 최댓값?\n",
    "        if imp[0] == max(imp):\n",
    "            order += 1\n",
    "                        \n",
    "            # 두번째 if: idx의 첫 번째 값 = \"target\"?\n",
    "            if idx[0] == target:\n",
    "                # target 값이 가장 앞에 있을 때 order을 프린트한다.\n",
    "                print(order)\n",
    "                break;\n",
    "                \n",
    "            else:\n",
    "                imp.pop(0)\n",
    "                idx.pop(0)\n",
    "                \n",
    "            print('if 안에 imp', imp)\n",
    "            print('if 안에 idx', idx)\n",
    "            \n",
    "        else:\n",
    "            imp.append(imp.pop(0))\n",
    "            idx.append(idx.pop(0))\n",
    "            print('else: imp : ', imp)\n",
    "            print('else : idx :', idx)"
   ]
  },
  {
   "cell_type": "code",
   "execution_count": 11,
   "id": "80505eaf",
   "metadata": {},
   "outputs": [
    {
     "data": {
      "text/plain": [
       "2"
      ]
     },
     "execution_count": 11,
     "metadata": {},
     "output_type": "execute_result"
    }
   ],
   "source": [
    "target"
   ]
  },
  {
   "cell_type": "code",
   "execution_count": 8,
   "id": "ccc54c39",
   "metadata": {},
   "outputs": [
    {
     "name": "stdout",
     "output_type": "stream",
     "text": [
      "[2, 3, 4, 5]\n",
      "[3, 4, 5, 2]\n"
     ]
    }
   ],
   "source": [
    "idx = [1,2,3,4,5]\n",
    "idx.pop(0)\n",
    "print(idx)\n",
    "idx.append(idx.pop(0))\n",
    "print(idx)"
   ]
  },
  {
   "cell_type": "code",
   "execution_count": null,
   "id": "1857d103",
   "metadata": {},
   "outputs": [],
   "source": [
    "\n"
   ]
  }
 ],
 "metadata": {
  "kernelspec": {
   "display_name": "Python 3 (ipykernel)",
   "language": "python",
   "name": "python3"
  },
  "language_info": {
   "codemirror_mode": {
    "name": "ipython",
    "version": 3
   },
   "file_extension": ".py",
   "mimetype": "text/x-python",
   "name": "python",
   "nbconvert_exporter": "python",
   "pygments_lexer": "ipython3",
   "version": "3.9.12"
  }
 },
 "nbformat": 4,
 "nbformat_minor": 5
}
