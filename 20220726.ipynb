{
  "nbformat": 4,
  "nbformat_minor": 0,
  "metadata": {
    "colab": {
      "name": "20220726.ipynb",
      "provenance": [],
      "collapsed_sections": [],
      "authorship_tag": "ABX9TyMNJwzpTXCaX11JSZaTJr6R",
      "include_colab_link": true
    },
    "kernelspec": {
      "name": "python3",
      "display_name": "Python 3"
    },
    "language_info": {
      "name": "python"
    }
  },
  "cells": [
    {
      "cell_type": "markdown",
      "metadata": {
        "id": "view-in-github",
        "colab_type": "text"
      },
      "source": [
        "<a href=\"https://colab.research.google.com/github/GYURI-PARK/baekjoon/blob/main/20220726.ipynb\" target=\"_parent\"><img src=\"https://colab.research.google.com/assets/colab-badge.svg\" alt=\"Open In Colab\"/></a>"
      ]
    },
    {
      "cell_type": "code",
      "execution_count": 5,
      "metadata": {
        "colab": {
          "base_uri": "https://localhost:8080/"
        },
        "id": "-QWj_G4U06dK",
        "outputId": "1273bcda-cc79-491b-afa4-3a3f5aa110d9"
      },
      "outputs": [
        {
          "output_type": "stream",
          "name": "stdout",
          "text": [
            "2 1 5\n",
            "4\n"
          ]
        }
      ],
      "source": [
        "# 2869번 : 달팽이는 올라가고 싶다.\n",
        "# 땅 위에 달팽이가 있다. 이 달팽이는 높이가 V미터인 나무 막대를 올라갈 것이다.\n",
        "# 달팽이는 낮에 A미터 올라갈 수 있다. 하지만, 밤에 잠을 자는 동안 B미터 미끄러진다. 또, 정상에 올라간 후에는 미끄러지지 않는다.\n",
        "# 달팽이가 나무 막대를 모두 올라가려면, 며칠이 걸리는지 구하는 프로그램을 작성하시오.\n",
        "# 첫째 줄에 세 정수 A, B, V가 공백으로 구분되어서 주어진다. (1 ≤ B < A ≤ V ≤ 1,000,000,000)\n",
        "# 첫째 줄에 달팽이가 나무 막대를 모두 올라가는데 며칠이 걸리는지 출력한다.\n",
        "\n",
        "\n",
        "a, b, v = map(int,input().split())\n",
        "cur = 0\n",
        "count = 0\n",
        "while (True):\n",
        "  cur += a\n",
        "  count += 1\n",
        "  if cur > v:\n",
        "    count -= 1\n",
        "    break;\n",
        "  else:\n",
        "    cur -= b\n",
        "    #count += 1\n",
        "  \n",
        "print(count)"
      ]
    },
    {
      "cell_type": "code",
      "source": [
        "# 2108번 : 통계학\n",
        "\n",
        "# 첫째 줄에는 산술평균을 출력한다. 소수점 이하 첫째 자리에서 반올림한 값을 출력한다.\n",
        "# 둘째 줄에는 중앙값을 출력한다.\n",
        "# 셋째 줄에는 최빈값을 출력한다. 여러 개 있을 때에는 최빈값 중 두 번째로 작은 값을 출력한다.\n",
        "# 넷째 줄에는 범위를 출력한다.\n",
        "\n",
        "n = int(input())\n",
        "num = []\n",
        "for i in range(n):\n",
        "  num.append(int(input()))\n",
        "\n",
        "# 소수 첫째 자리에서 반올림 > round(숫자)\n",
        "# 1 의 자리에서 반올림 > round(num, -1)\n",
        "# 소수 두번째 자리에서 반올림 > round(num, 1)\n",
        "a1 = round((sum(num) / n))\n",
        "#print(a1)\n",
        "a2 = sorted(num)[round(n/2)]\n",
        "#print(sorted(num))\n",
        "#print(a2)\n",
        "imp = []\n",
        "for _ in num:\n",
        "    imp.append(num.count(_))\n",
        "if imp.count(max(imp)) >= 2 :\n",
        "  a3 = sorted(num)[1]\n",
        "else:\n",
        "  a3 = num.find(max(imp))\n",
        "#print(a3)\n",
        "a4 = max(num) - min(num)\n",
        "print(a1)\n",
        "print(a2)\n",
        "print(a3)\n",
        "print(a4)"
      ],
      "metadata": {
        "id": "OYBmnbic2aBo"
      },
      "execution_count": 2,
      "outputs": []
    },
    {
      "cell_type": "code",
      "source": [
        "from collections import Counter\n",
        "n = int(input())\n",
        "num = []\n",
        "for i in range(n):\n",
        "    num.append(int(input()))\n",
        "a = sorted(num)\n",
        "print(round(sum(num) / n))\n",
        "print(a[round(n//2)])\n",
        "\n",
        "li = Counter(a)\n",
        "\n",
        "if n > 1:\n",
        "  if li.most_common()[0][1] != li.most_common()[1][1]:\n",
        "    print(li.most_common()[0][0])\n",
        "  else:\n",
        "    print(li.most_common()[1][0])\n",
        "else:\n",
        "  print(li.most_common()[0][0])\n",
        "print(max(num) - min(num))"
      ],
      "metadata": {
        "colab": {
          "base_uri": "https://localhost:8080/"
        },
        "id": "XP-APe_k6DTR",
        "outputId": "49c7041e-7cb3-42b4-9643-76c457f77af7"
      },
      "execution_count": 66,
      "outputs": [
        {
          "output_type": "stream",
          "name": "stdout",
          "text": [
            "3\n",
            "0\n",
            "0\n",
            "1\n",
            "0\n",
            "0\n",
            "0\n",
            "1\n"
          ]
        }
      ]
    },
    {
      "cell_type": "code",
      "source": [
        "# 11653번 : 소인수분해\n",
        "\n",
        "n = int(input())\n",
        "a = 2\n",
        "while (True) :\n",
        "  if a > n :\n",
        "    break;\n",
        "  else:\n",
        "    if (n % a != 0) :\n",
        "      a += 1\n",
        "    else:\n",
        "      print(a)\n",
        "      n = n //a"
      ],
      "metadata": {
        "colab": {
          "base_uri": "https://localhost:8080/"
        },
        "id": "hqrpWJAOOYLb",
        "outputId": "1251cfe5-cca2-4104-c1fd-54b9a2cf039a"
      },
      "execution_count": 20,
      "outputs": [
        {
          "output_type": "stream",
          "name": "stdout",
          "text": [
            "2\n",
            "2\n",
            "2\n"
          ]
        }
      ]
    },
    {
      "cell_type": "code",
      "source": [
        "# 1427번 : 소트인사이드\n",
        "\n",
        "n = input()\n",
        "a = min(n)\n",
        "res = []\n",
        "while(len(n) > 1):\n",
        "  for i in range(len(n)):\n",
        "    res.append(a)\n",
        "    n.pop(a)\n",
        "  \n"
      ],
      "metadata": {
        "colab": {
          "base_uri": "https://localhost:8080/"
        },
        "id": "GpcaD1WkP6j8",
        "outputId": "0a0bfd60-8a25-4ecf-f61a-d03efd3f263c"
      },
      "execution_count": 52,
      "outputs": [
        {
          "name": "stdout",
          "output_type": "stream",
          "text": [
            "34234\n"
          ]
        }
      ]
    },
    {
      "cell_type": "code",
      "source": [
        "imp"
      ],
      "metadata": {
        "colab": {
          "base_uri": "https://localhost:8080/"
        },
        "id": "oXgdZAM97HOk",
        "outputId": "38a325af-91f7-4b15-fceb-51b53728b63a"
      },
      "execution_count": 45,
      "outputs": [
        {
          "output_type": "execute_result",
          "data": {
            "text/plain": [
              "['3', '2', '1']"
            ]
          },
          "metadata": {},
          "execution_count": 45
        }
      ]
    },
    {
      "cell_type": "code",
      "source": [
        ""
      ],
      "metadata": {
        "id": "qGbKo-vI7OJl"
      },
      "execution_count": null,
      "outputs": []
    }
  ]
}